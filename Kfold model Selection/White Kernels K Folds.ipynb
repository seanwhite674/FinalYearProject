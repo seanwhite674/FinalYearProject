{
 "cells": [
  {
   "cell_type": "code",
   "execution_count": 1,
   "metadata": {},
   "outputs": [],
   "source": [
    "from __future__ import division\n",
    "import numpy as np\n",
    "import pandas as pd\n",
    "import math as math\n",
    "from sklearn.gaussian_process import GaussianProcessRegressor\n",
    "from sklearn.gaussian_process.kernels import RBF, ConstantKernel as C\n",
    "from sklearn.gaussian_process.kernels import WhiteKernel\n",
    "from sklearn.model_selection import train_test_split\n",
    "from sklearn.gaussian_process.kernels import Matern, RationalQuadratic,ExpSineSquared,PairwiseKernel\n",
    "from tqdm import tqdm\n",
    "from sklearn.metrics import r2_score\n",
    "from sklearn.metrics import mean_squared_error\n",
    "from sklearn.metrics import mean_squared_error, mean_absolute_error, r2_score\n",
    "from scipy.stats import pearsonr\n",
    "from sklearn.model_selection import KFold\n",
    "import joblib"
   ]
  },
  {
   "cell_type": "code",
   "execution_count": 2,
   "metadata": {},
   "outputs": [],
   "source": [
    "columns = [\"x\",\"y\",\"z\",\"w\",\"data\",\"error\"]\n",
    "datatab = pd.read_table(r\"C:\\Users\\seanw\\OneDrive\\Desktop\\GitHub\\FYP\\Data\\Updateddata.txt\",names = columns)\n",
    "datatab\n",
    "x = datatab['x']\n",
    "y = datatab['y']\n",
    "z = datatab['z']\n",
    "w = datatab['w']\n",
    "data = datatab['data']\n",
    "error = datatab['error']\n",
    "\n",
    "# First Mass\n",
    "datam1 = datatab[0:250]\n",
    "xm1 = datam1['x'].values\n",
    "ym1 = datam1['y'].values\n",
    "zm1 = datam1['z'].values\n",
    "wm1 = datam1['w'].values\n",
    "dm1 = datam1['data'].values\n",
    "em1 = datam1['error'].values\n",
    "X1 = np.column_stack((xm1, ym1, zm1, wm1))\n",
    "\n",
    "# Second Mass\n",
    "datam2 = datatab[250:500]\n",
    "xm2 = datam2['x'].values\n",
    "ym2 = datam2['y'].values\n",
    "zm2 = datam2['z'].values\n",
    "wm2 = datam2['w'].values\n",
    "dm2 = datam2['data'].values\n",
    "em2 = datam2['error'].values\n",
    "X2 = np.column_stack((xm2, ym2, zm2, wm2))\n",
    "\n",
    "# Third Mass\n",
    "datam3 = datatab[500:750]\n",
    "xm3 = datam3['x'].values\n",
    "ym3 = datam3['y'].values\n",
    "zm3 = datam3['z'].values\n",
    "wm3 = datam3['w'].values\n",
    "dm3 = datam3['data'].values\n",
    "em3 = datam3['error'].values\n",
    "X3 = np.column_stack((xm3, ym3, zm3, wm3))\n",
    "\n",
    "# Fourth Mass\n",
    "datam4 = datatab[750:]\n",
    "xm4 = datam4['x'].values\n",
    "ym4 = datam4['y'].values\n",
    "zm4 = datam4['z'].values\n",
    "wm4 = datam4['w'].values\n",
    "dm4 = datam4['data'].values\n",
    "em4 = datam4['error'].values\n",
    "X4 = np.column_stack((xm4, ym4, zm4, wm4))\n",
    "\n",
    "X = np.column_stack((x,y, z, w))\n",
    "D = np.concatenate((dm1,dm2,dm3,dm4))\n",
    "E = np.concatenate((em1,em2,em3,em4))"
   ]
  },
  {
   "cell_type": "markdown",
   "metadata": {},
   "source": [
    "### Using Cross Validation to shortlist the best models\n",
    "- Divide data into 90-10 train-test split\n",
    "- Use 10-fold cross validation on the train set to shortlist the best models\n",
    "- I will shortlist the models based on 6 metrics which are RMSE, MAE, R², Adjusted R², Figure of Merit and Pearson Coefficient\n",
    "- After shortlisting I will build the final model on the entire train set and evaluate it on the test set\n",
    "- I will also build MCMC models using each of the model types found in the shortlisting step\n",
    "- I will also compare the MCMC models with the point estimate models using the same metrics"
   ]
  },
  {
   "cell_type": "code",
   "execution_count": 4,
   "metadata": {},
   "outputs": [],
   "source": [
    "indices = np.arange(X.shape[0])\n",
    "X_trainval, X_test, D_trainval, D_test, E_trainval, E_test, indices_trainval, indices_test = train_test_split(X, D,E,indices, test_size=0.1, random_state=42)\n",
    "folds = 10"
   ]
  },
  {
   "cell_type": "code",
   "execution_count": 5,
   "metadata": {},
   "outputs": [],
   "source": [
    "def build_gpr(set_kernel, set_noise_type, E_train=None):\n",
    "    \"\"\"\n",
    "    Builds a GaussianProcessRegressor given a kernel and noise configuration.\n",
    "    \n",
    "    Parameters:\n",
    "    -----------\n",
    "    set_kernel : kernel\n",
    "        A scikit-learn kernel object, e.g. RBF(), Matern(), etc.\n",
    "    set_noise_type  : str\n",
    "        A code describing how we handle noise:\n",
    "          - 'fixed_alpha': use alpha = E_train^2 (no WhiteKernel)\n",
    "          - 'white_no_error': WhiteKernel with some default noise level\n",
    "          - 'white_mean_error': WhiteKernel seeded by E_train.mean()\n",
    "          - 'white_minmax_error': WhiteKernel with bounds from min/max\n",
    "    E_train : ndarray or float, optional\n",
    "        If you need the training errors for alpha or WhiteKernel initialization.\n",
    "    Returns:\n",
    "    --------\n",
    "    gpr : GaussianProcessRegressor\n",
    "        The constructed GPR model with the requested noise approach.\n",
    "    \"\"\"\n",
    "\n",
    "    # Set defaults\n",
    "    normalize_y = True\n",
    "    n_restarts_optimizer = 20  \n",
    "    random_state = 42\n",
    "\n",
    "    if set_noise_type == 'fixed_alpha':\n",
    "        if E_train is None:\n",
    "            raise ValueError(\"E_train must be provided for 'fixed_alpha' noise config.\")\n",
    "        alpha_val = (E_train)**2\n",
    "        return GaussianProcessRegressor(kernel=set_kernel, alpha=alpha_val, normalize_y=normalize_y, n_restarts_optimizer=n_restarts_optimizer, random_state=random_state)\n",
    "    \n",
    "    elif set_noise_type == 'white_no_error':\n",
    "        noise_init = 1\n",
    "        noise_bounds = (1e-4, 20)\n",
    "        combined_kernel = set_kernel + WhiteKernel(noise_level=noise_init, noise_level_bounds=noise_bounds)\n",
    "        return GaussianProcessRegressor(kernel=combined_kernel, normalize_y=normalize_y, n_restarts_optimizer=n_restarts_optimizer, random_state=random_state)\n",
    "    \n",
    "    elif set_noise_type == 'white_mean_error':\n",
    "        if E_train is None:\n",
    "            raise ValueError(\"E_train must be provided for 'white_mean_error'.\")\n",
    "        E_var = E_train**2\n",
    "        ##### scaling the mean by delta 0.3 for optimising range. Idea  - Keep tight bounds for noise\n",
    "        noise_init = np.mean(E_var)\n",
    "        noise_bounds = (np.mean(E_var)*0.7, np.mean(E_var)*1.3)\n",
    "        combined_kernel = set_kernel + WhiteKernel(noise_level=noise_init, noise_level_bounds=noise_bounds)\n",
    "        return GaussianProcessRegressor(kernel=combined_kernel, normalize_y=normalize_y, n_restarts_optimizer=n_restarts_optimizer, random_state=random_state)\n",
    "    \n",
    "    elif set_noise_type == 'white_minmax_error':\n",
    "        if E_train is None:\n",
    "            raise ValueError(\"E_train must be provided for 'white_minmax_error'.\")\n",
    "        E_var = E_train**2\n",
    "        ##### bounds for noise level decided by min and max of the error\n",
    "        min_e = np.min(E_var)\n",
    "        max_e = np.max(E_var)\n",
    "        noise_init = np.mean(E_var)\n",
    "        noise_bounds = (min_e, max_e)\n",
    "        combined_kernel = set_kernel + WhiteKernel(noise_level=noise_init, noise_level_bounds=noise_bounds)\n",
    "        return GaussianProcessRegressor(kernel=combined_kernel, normalize_y=normalize_y, n_restarts_optimizer=n_restarts_optimizer,random_state=random_state)\n",
    "    \n",
    "    else:\n",
    "        raise ValueError(\"Invalid noise type.\")"
   ]
  },
  {
   "cell_type": "code",
   "execution_count": null,
   "metadata": {},
   "outputs": [],
   "source": [
    "def cross_validate_gpr(kernel, modeltypes, X_trainval, D_trainval, E_trainval, folds=folds):\n",
    "    \"\"\"\n",
    "    Runs cross-validation for a given kernel and list of model types (noise types).\n",
    "    \n",
    "    Parameters:\n",
    "    -----------\n",
    "    kernel : sklearn kernel object\n",
    "        The base kernel (e.g., RBF(), RationalQuadratic(), Matern()).\n",
    "    modeltypes : list of str\n",
    "        List of noise model types (e.g., ['white_no_error', 'white_mean_error', ...]).\n",
    "    X_trainval, D_trainval, E_trainval : ndarray\n",
    "        Training/validation data and associated error.\n",
    "    folds : int\n",
    "        Number of folds (default 10).\n",
    "    \n",
    "    Returns:\n",
    "    --------\n",
    "    cv_results : dict\n",
    "        Dictionary with metrics for each model type.\n",
    "    \"\"\"\n",
    "\n",
    "    cv_results = {}\n",
    "    kf = KFold(n_splits=folds, shuffle=True, random_state=42)\n",
    "\n",
    "    for modeltype in modeltypes:\n",
    "        print(f\"\\nRunning CV for model type: {modeltype}\")\n",
    "\n",
    "        r2, rmse, mae, adjusted_r2, fom, pearsoncoeff = [], [], [], [], [], []\n",
    "\n",
    "        for train_index, val_index in tqdm(list(kf.split(X_trainval)), total=folds, desc=f\"CV {modeltype}\"):\n",
    "            X_train, X_val = X_trainval[train_index], X_trainval[val_index]\n",
    "            D_train, D_val = D_trainval[train_index], D_trainval[val_index]\n",
    "            E_train, _ = E_trainval[train_index], E_trainval[val_index]\n",
    "\n",
    "            gpr = build_gpr(kernel,modeltype, E_train)\n",
    "            gpr.fit(X_train, D_train)\n",
    "\n",
    "            D_pred, D_std = gpr.predict(X_val, return_std=True)\n",
    "\n",
    "\n",
    "            rmse.append(np.sqrt(mean_squared_error(D_val, D_pred)))\n",
    "            mae.append(mean_absolute_error(D_val, D_pred))\n",
    "            r2.append(r2_score(D_val, D_pred))\n",
    "            adjusted_r2.append(1 - (1 - r2[-1]) * (len(D_val) - 1) / (len(D_val) - X_val.shape[1] - 1))\n",
    "            fom.append(np.mean(np.abs(D_val - D_pred) / D_std))\n",
    "            corr, _ = pearsonr(D_val.ravel(), D_pred.ravel())\n",
    "            pearsoncoeff.append(corr)\n",
    "        cv_results[modeltype] = {'r2': r2,'rmse':rmse,'mae':mae,'adjusted_r2':adjusted_r2, 'fom':fom,'pearson': pearsoncoeff}\n",
    "\n",
    "    return cv_results"
   ]
  },
  {
   "cell_type": "code",
   "execution_count": null,
   "metadata": {},
   "outputs": [
    {
     "name": "stdout",
     "output_type": "stream",
     "text": [
      "\n",
      "\n",
      "Running CV for kernel: Matern\n",
      "\n",
      "Running CV for model type: white_no_error\n"
     ]
    },
    {
     "name": "stderr",
     "output_type": "stream",
     "text": [
      "CV white_no_error:   0%|          | 0/10 [00:00<?, ?it/s]c:\\Users\\seanw\\anaconda3\\Lib\\site-packages\\sklearn\\gaussian_process\\_gpr.py:663: ConvergenceWarning: lbfgs failed to converge (status=2):\n",
      "ABNORMAL_TERMINATION_IN_LNSRCH.\n",
      "\n",
      "Increase the number of iterations (max_iter) or scale the data as shown in:\n",
      "    https://scikit-learn.org/stable/modules/preprocessing.html\n",
      "  _check_optimize_result(\"lbfgs\", opt_res)\n",
      "CV white_no_error:  20%|██        | 2/10 [09:37<37:52, 284.07s/it]c:\\Users\\seanw\\anaconda3\\Lib\\site-packages\\sklearn\\gaussian_process\\_gpr.py:663: ConvergenceWarning: lbfgs failed to converge (status=2):\n",
      "ABNORMAL_TERMINATION_IN_LNSRCH.\n",
      "\n",
      "Increase the number of iterations (max_iter) or scale the data as shown in:\n",
      "    https://scikit-learn.org/stable/modules/preprocessing.html\n",
      "  _check_optimize_result(\"lbfgs\", opt_res)\n",
      "CV white_no_error: 100%|██████████| 10/10 [48:21<00:00, 290.14s/it]\n"
     ]
    },
    {
     "name": "stdout",
     "output_type": "stream",
     "text": [
      "\n",
      "Running CV for model type: white_mean_error\n"
     ]
    },
    {
     "name": "stderr",
     "output_type": "stream",
     "text": [
      "CV white_mean_error:   0%|          | 0/10 [00:00<?, ?it/s]c:\\Users\\seanw\\anaconda3\\Lib\\site-packages\\sklearn\\gaussian_process\\kernels.py:445: ConvergenceWarning: The optimal value found for dimension 0 of parameter k2__noise_level is close to the specified lower bound 0.5143804386540594. Decreasing the bound and calling fit again may find a better value.\n",
      "  warnings.warn(\n",
      "CV white_mean_error:  10%|█         | 1/10 [04:14<38:14, 254.90s/it]c:\\Users\\seanw\\anaconda3\\Lib\\site-packages\\sklearn\\gaussian_process\\kernels.py:445: ConvergenceWarning: The optimal value found for dimension 0 of parameter k2__noise_level is close to the specified lower bound 0.5267006904199005. Decreasing the bound and calling fit again may find a better value.\n",
      "  warnings.warn(\n",
      "CV white_mean_error:  20%|██        | 2/10 [08:23<33:30, 251.27s/it]c:\\Users\\seanw\\anaconda3\\Lib\\site-packages\\sklearn\\gaussian_process\\kernels.py:445: ConvergenceWarning: The optimal value found for dimension 0 of parameter k2__noise_level is close to the specified lower bound 0.5327198017563276. Decreasing the bound and calling fit again may find a better value.\n",
      "  warnings.warn(\n",
      "CV white_mean_error:  30%|███       | 3/10 [12:38<29:30, 252.96s/it]c:\\Users\\seanw\\anaconda3\\Lib\\site-packages\\sklearn\\gaussian_process\\kernels.py:445: ConvergenceWarning: The optimal value found for dimension 0 of parameter k2__noise_level is close to the specified lower bound 0.4800501673531073. Decreasing the bound and calling fit again may find a better value.\n",
      "  warnings.warn(\n",
      "CV white_mean_error:  40%|████      | 4/10 [16:07<23:32, 235.46s/it]c:\\Users\\seanw\\anaconda3\\Lib\\site-packages\\sklearn\\gaussian_process\\kernels.py:445: ConvergenceWarning: The optimal value found for dimension 0 of parameter k2__noise_level is close to the specified lower bound 0.5063372927053018. Decreasing the bound and calling fit again may find a better value.\n",
      "  warnings.warn(\n",
      "CV white_mean_error:  50%|█████     | 5/10 [20:03<19:38, 235.63s/it]c:\\Users\\seanw\\anaconda3\\Lib\\site-packages\\sklearn\\gaussian_process\\kernels.py:445: ConvergenceWarning: The optimal value found for dimension 0 of parameter k2__noise_level is close to the specified lower bound 0.5141309841853249. Decreasing the bound and calling fit again may find a better value.\n",
      "  warnings.warn(\n",
      "CV white_mean_error:  60%|██████    | 6/10 [23:51<15:32, 233.16s/it]c:\\Users\\seanw\\anaconda3\\Lib\\site-packages\\sklearn\\gaussian_process\\kernels.py:445: ConvergenceWarning: The optimal value found for dimension 0 of parameter k2__noise_level is close to the specified lower bound 0.5259317592585413. Decreasing the bound and calling fit again may find a better value.\n",
      "  warnings.warn(\n",
      "CV white_mean_error:  70%|███████   | 7/10 [27:32<11:27, 229.33s/it]c:\\Users\\seanw\\anaconda3\\Lib\\site-packages\\sklearn\\gaussian_process\\kernels.py:445: ConvergenceWarning: The optimal value found for dimension 0 of parameter k2__noise_level is close to the specified lower bound 0.5241974273565195. Decreasing the bound and calling fit again may find a better value.\n",
      "  warnings.warn(\n",
      "CV white_mean_error:  80%|████████  | 8/10 [31:50<07:56, 238.39s/it]c:\\Users\\seanw\\anaconda3\\Lib\\site-packages\\sklearn\\gaussian_process\\kernels.py:445: ConvergenceWarning: The optimal value found for dimension 0 of parameter k2__noise_level is close to the specified lower bound 0.5022910777532603. Decreasing the bound and calling fit again may find a better value.\n",
      "  warnings.warn(\n",
      "CV white_mean_error:  90%|█████████ | 9/10 [35:24<03:50, 230.57s/it]c:\\Users\\seanw\\anaconda3\\Lib\\site-packages\\sklearn\\gaussian_process\\kernels.py:455: ConvergenceWarning: The optimal value found for dimension 3 of parameter k1__k2__length_scale is close to the specified upper bound 10.0. Increasing the bound and calling fit again may find a better value.\n",
      "  warnings.warn(\n",
      "c:\\Users\\seanw\\anaconda3\\Lib\\site-packages\\sklearn\\gaussian_process\\kernels.py:445: ConvergenceWarning: The optimal value found for dimension 0 of parameter k2__noise_level is close to the specified lower bound 0.5388899645688557. Decreasing the bound and calling fit again may find a better value.\n",
      "  warnings.warn(\n",
      "CV white_mean_error: 100%|██████████| 10/10 [39:22<00:00, 236.27s/it]\n"
     ]
    },
    {
     "name": "stdout",
     "output_type": "stream",
     "text": [
      "\n",
      "Running CV for model type: white_minmax_error\n"
     ]
    },
    {
     "name": "stderr",
     "output_type": "stream",
     "text": [
      "CV white_minmax_error:   0%|          | 0/10 [00:00<?, ?it/s]c:\\Users\\seanw\\anaconda3\\Lib\\site-packages\\sklearn\\gaussian_process\\kernels.py:445: ConvergenceWarning: The optimal value found for dimension 0 of parameter k2__noise_level is close to the specified lower bound 0.012608095136544591. Decreasing the bound and calling fit again may find a better value.\n",
      "  warnings.warn(\n",
      "CV white_minmax_error:  10%|█         | 1/10 [04:14<38:07, 254.16s/it]c:\\Users\\seanw\\anaconda3\\Lib\\site-packages\\sklearn\\gaussian_process\\kernels.py:445: ConvergenceWarning: The optimal value found for dimension 0 of parameter k2__noise_level is close to the specified lower bound 0.012608095136544591. Decreasing the bound and calling fit again may find a better value.\n",
      "  warnings.warn(\n",
      "CV white_minmax_error:  20%|██        | 2/10 [09:36<39:14, 294.30s/it]c:\\Users\\seanw\\anaconda3\\Lib\\site-packages\\sklearn\\gaussian_process\\kernels.py:445: ConvergenceWarning: The optimal value found for dimension 0 of parameter k2__noise_level is close to the specified lower bound 0.012608095136544591. Decreasing the bound and calling fit again may find a better value.\n",
      "  warnings.warn(\n",
      "CV white_minmax_error:  30%|███       | 3/10 [13:40<31:40, 271.44s/it]c:\\Users\\seanw\\anaconda3\\Lib\\site-packages\\sklearn\\gaussian_process\\kernels.py:445: ConvergenceWarning: The optimal value found for dimension 0 of parameter k2__noise_level is close to the specified lower bound 0.012608095136544591. Decreasing the bound and calling fit again may find a better value.\n",
      "  warnings.warn(\n",
      "CV white_minmax_error:  40%|████      | 4/10 [18:18<27:24, 274.10s/it]c:\\Users\\seanw\\anaconda3\\Lib\\site-packages\\sklearn\\gaussian_process\\kernels.py:445: ConvergenceWarning: The optimal value found for dimension 0 of parameter k2__noise_level is close to the specified lower bound 0.01824035829373275. Decreasing the bound and calling fit again may find a better value.\n",
      "  warnings.warn(\n",
      "CV white_minmax_error:  50%|█████     | 5/10 [22:47<22:40, 272.01s/it]c:\\Users\\seanw\\anaconda3\\Lib\\site-packages\\sklearn\\gaussian_process\\kernels.py:445: ConvergenceWarning: The optimal value found for dimension 0 of parameter k2__noise_level is close to the specified lower bound 0.012608095136544591. Decreasing the bound and calling fit again may find a better value.\n",
      "  warnings.warn(\n",
      "CV white_minmax_error:  60%|██████    | 6/10 [27:53<18:54, 283.56s/it]c:\\Users\\seanw\\anaconda3\\Lib\\site-packages\\sklearn\\gaussian_process\\kernels.py:445: ConvergenceWarning: The optimal value found for dimension 0 of parameter k2__noise_level is close to the specified lower bound 0.012608095136544591. Decreasing the bound and calling fit again may find a better value.\n",
      "  warnings.warn(\n",
      "CV white_minmax_error:  70%|███████   | 7/10 [31:59<13:34, 271.46s/it]c:\\Users\\seanw\\anaconda3\\Lib\\site-packages\\sklearn\\gaussian_process\\kernels.py:445: ConvergenceWarning: The optimal value found for dimension 0 of parameter k2__noise_level is close to the specified lower bound 0.012608095136544591. Decreasing the bound and calling fit again may find a better value.\n",
      "  warnings.warn(\n",
      "CV white_minmax_error:  80%|████████  | 8/10 [36:30<09:02, 271.25s/it]c:\\Users\\seanw\\anaconda3\\Lib\\site-packages\\sklearn\\gaussian_process\\_gpr.py:663: ConvergenceWarning: lbfgs failed to converge (status=2):\n",
      "ABNORMAL_TERMINATION_IN_LNSRCH.\n",
      "\n",
      "Increase the number of iterations (max_iter) or scale the data as shown in:\n",
      "    https://scikit-learn.org/stable/modules/preprocessing.html\n",
      "  _check_optimize_result(\"lbfgs\", opt_res)\n",
      "c:\\Users\\seanw\\anaconda3\\Lib\\site-packages\\sklearn\\gaussian_process\\kernels.py:445: ConvergenceWarning: The optimal value found for dimension 0 of parameter k2__noise_level is close to the specified lower bound 0.012608095136544591. Decreasing the bound and calling fit again may find a better value.\n",
      "  warnings.warn(\n",
      "CV white_minmax_error:  90%|█████████ | 9/10 [41:12<04:34, 274.45s/it]c:\\Users\\seanw\\anaconda3\\Lib\\site-packages\\sklearn\\gaussian_process\\kernels.py:445: ConvergenceWarning: The optimal value found for dimension 0 of parameter k2__noise_level is close to the specified lower bound 0.012608095136544591. Decreasing the bound and calling fit again may find a better value.\n",
      "  warnings.warn(\n",
      "CV white_minmax_error: 100%|██████████| 10/10 [45:13<00:00, 271.34s/it]\n"
     ]
    },
    {
     "name": "stdout",
     "output_type": "stream",
     "text": [
      "\n",
      "Running CV for model type: fixed_alpha\n"
     ]
    },
    {
     "name": "stderr",
     "output_type": "stream",
     "text": [
      "CV fixed_alpha:  90%|█████████ | 9/10 [24:50<02:49, 169.03s/it]c:\\Users\\seanw\\anaconda3\\Lib\\site-packages\\sklearn\\gaussian_process\\_gpr.py:663: ConvergenceWarning: lbfgs failed to converge (status=2):\n",
      "ABNORMAL_TERMINATION_IN_LNSRCH.\n",
      "\n",
      "Increase the number of iterations (max_iter) or scale the data as shown in:\n",
      "    https://scikit-learn.org/stable/modules/preprocessing.html\n",
      "  _check_optimize_result(\"lbfgs\", opt_res)\n",
      "CV fixed_alpha: 100%|██████████| 10/10 [27:56<00:00, 167.69s/it]\n"
     ]
    },
    {
     "name": "stdout",
     "output_type": "stream",
     "text": [
      "\n",
      "\n",
      "Running CV for kernel: RationalQuadratic\n",
      "\n",
      "Running CV for model type: white_no_error\n"
     ]
    },
    {
     "name": "stderr",
     "output_type": "stream",
     "text": [
      "CV white_no_error:  30%|███       | 3/10 [04:25<10:10, 87.15s/it]c:\\Users\\seanw\\anaconda3\\Lib\\site-packages\\sklearn\\gaussian_process\\_gpr.py:663: ConvergenceWarning: lbfgs failed to converge (status=2):\n",
      "ABNORMAL_TERMINATION_IN_LNSRCH.\n",
      "\n",
      "Increase the number of iterations (max_iter) or scale the data as shown in:\n",
      "    https://scikit-learn.org/stable/modules/preprocessing.html\n",
      "  _check_optimize_result(\"lbfgs\", opt_res)\n",
      "CV white_no_error: 100%|██████████| 10/10 [14:17<00:00, 85.74s/it]\n"
     ]
    },
    {
     "name": "stdout",
     "output_type": "stream",
     "text": [
      "\n",
      "Running CV for model type: white_mean_error\n"
     ]
    },
    {
     "name": "stderr",
     "output_type": "stream",
     "text": [
      "CV white_mean_error:   0%|          | 0/10 [00:00<?, ?it/s]c:\\Users\\seanw\\anaconda3\\Lib\\site-packages\\sklearn\\gaussian_process\\kernels.py:445: ConvergenceWarning: The optimal value found for dimension 0 of parameter k2__noise_level is close to the specified lower bound 0.5143804386540594. Decreasing the bound and calling fit again may find a better value.\n",
      "  warnings.warn(\n",
      "CV white_mean_error:  10%|█         | 1/10 [01:33<13:57, 93.01s/it]c:\\Users\\seanw\\anaconda3\\Lib\\site-packages\\sklearn\\gaussian_process\\kernels.py:445: ConvergenceWarning: The optimal value found for dimension 0 of parameter k2__noise_level is close to the specified lower bound 0.5267006904199005. Decreasing the bound and calling fit again may find a better value.\n",
      "  warnings.warn(\n",
      "CV white_mean_error:  20%|██        | 2/10 [03:07<12:31, 93.98s/it]c:\\Users\\seanw\\anaconda3\\Lib\\site-packages\\sklearn\\gaussian_process\\kernels.py:445: ConvergenceWarning: The optimal value found for dimension 0 of parameter k2__noise_level is close to the specified lower bound 0.5327198017563276. Decreasing the bound and calling fit again may find a better value.\n",
      "  warnings.warn(\n",
      "CV white_mean_error:  30%|███       | 3/10 [04:51<11:29, 98.48s/it]c:\\Users\\seanw\\anaconda3\\Lib\\site-packages\\sklearn\\gaussian_process\\kernels.py:445: ConvergenceWarning: The optimal value found for dimension 0 of parameter k2__noise_level is close to the specified lower bound 0.4800501673531073. Decreasing the bound and calling fit again may find a better value.\n",
      "  warnings.warn(\n",
      "CV white_mean_error:  40%|████      | 4/10 [06:27<09:44, 97.37s/it]c:\\Users\\seanw\\anaconda3\\Lib\\site-packages\\sklearn\\gaussian_process\\kernels.py:445: ConvergenceWarning: The optimal value found for dimension 0 of parameter k2__noise_level is close to the specified lower bound 0.5063372927053018. Decreasing the bound and calling fit again may find a better value.\n",
      "  warnings.warn(\n",
      "CV white_mean_error:  50%|█████     | 5/10 [08:01<08:01, 96.39s/it]c:\\Users\\seanw\\anaconda3\\Lib\\site-packages\\sklearn\\gaussian_process\\kernels.py:445: ConvergenceWarning: The optimal value found for dimension 0 of parameter k2__noise_level is close to the specified lower bound 0.5141309841853249. Decreasing the bound and calling fit again may find a better value.\n",
      "  warnings.warn(\n",
      "CV white_mean_error:  60%|██████    | 6/10 [09:36<06:23, 95.89s/it]c:\\Users\\seanw\\anaconda3\\Lib\\site-packages\\sklearn\\gaussian_process\\kernels.py:445: ConvergenceWarning: The optimal value found for dimension 0 of parameter k2__noise_level is close to the specified lower bound 0.5259317592585413. Decreasing the bound and calling fit again may find a better value.\n",
      "  warnings.warn(\n",
      "CV white_mean_error:  70%|███████   | 7/10 [11:06<04:41, 93.96s/it]c:\\Users\\seanw\\anaconda3\\Lib\\site-packages\\sklearn\\gaussian_process\\kernels.py:445: ConvergenceWarning: The optimal value found for dimension 0 of parameter k2__noise_level is close to the specified lower bound 0.5241974273565195. Decreasing the bound and calling fit again may find a better value.\n",
      "  warnings.warn(\n",
      "CV white_mean_error:  80%|████████  | 8/10 [12:37<03:06, 93.02s/it]c:\\Users\\seanw\\anaconda3\\Lib\\site-packages\\sklearn\\gaussian_process\\kernels.py:445: ConvergenceWarning: The optimal value found for dimension 0 of parameter k2__noise_level is close to the specified lower bound 0.5022910777532603. Decreasing the bound and calling fit again may find a better value.\n",
      "  warnings.warn(\n",
      "CV white_mean_error:  90%|█████████ | 9/10 [14:07<01:31, 91.88s/it]c:\\Users\\seanw\\anaconda3\\Lib\\site-packages\\sklearn\\gaussian_process\\kernels.py:445: ConvergenceWarning: The optimal value found for dimension 0 of parameter k2__noise_level is close to the specified lower bound 0.5388899645688557. Decreasing the bound and calling fit again may find a better value.\n",
      "  warnings.warn(\n",
      "CV white_mean_error: 100%|██████████| 10/10 [15:18<00:00, 91.80s/it]\n"
     ]
    },
    {
     "name": "stdout",
     "output_type": "stream",
     "text": [
      "\n",
      "Running CV for model type: white_minmax_error\n"
     ]
    },
    {
     "name": "stderr",
     "output_type": "stream",
     "text": [
      "CV white_minmax_error:  80%|████████  | 8/10 [13:16<03:15, 97.50s/it] c:\\Users\\seanw\\anaconda3\\Lib\\site-packages\\sklearn\\gaussian_process\\_gpr.py:663: ConvergenceWarning: lbfgs failed to converge (status=2):\n",
      "ABNORMAL_TERMINATION_IN_LNSRCH.\n",
      "\n",
      "Increase the number of iterations (max_iter) or scale the data as shown in:\n",
      "    https://scikit-learn.org/stable/modules/preprocessing.html\n",
      "  _check_optimize_result(\"lbfgs\", opt_res)\n",
      "CV white_minmax_error: 100%|██████████| 10/10 [16:42<00:00, 100.29s/it]\n"
     ]
    },
    {
     "name": "stdout",
     "output_type": "stream",
     "text": [
      "\n",
      "Running CV for model type: fixed_alpha\n"
     ]
    },
    {
     "name": "stderr",
     "output_type": "stream",
     "text": [
      "CV fixed_alpha: 100%|██████████| 10/10 [08:27<00:00, 50.70s/it]\n"
     ]
    },
    {
     "name": "stdout",
     "output_type": "stream",
     "text": [
      "\n",
      "\n",
      "Running CV for kernel: ExpSineSquared\n",
      "\n",
      "Running CV for model type: white_no_error\n"
     ]
    },
    {
     "name": "stderr",
     "output_type": "stream",
     "text": [
      "CV white_no_error:   0%|          | 0/10 [00:00<?, ?it/s]c:\\Users\\seanw\\anaconda3\\Lib\\site-packages\\sklearn\\gaussian_process\\kernels.py:455: ConvergenceWarning: The optimal value found for dimension 0 of parameter k1__k2__periodicity is close to the specified upper bound 20. Increasing the bound and calling fit again may find a better value.\n",
      "  warnings.warn(\n",
      "CV white_no_error:  10%|█         | 1/10 [00:14<02:10, 14.53s/it]c:\\Users\\seanw\\anaconda3\\Lib\\site-packages\\sklearn\\gaussian_process\\kernels.py:455: ConvergenceWarning: The optimal value found for dimension 0 of parameter k1__k2__periodicity is close to the specified upper bound 20. Increasing the bound and calling fit again may find a better value.\n",
      "  warnings.warn(\n",
      "CV white_no_error:  20%|██        | 2/10 [00:33<02:18, 17.34s/it]c:\\Users\\seanw\\anaconda3\\Lib\\site-packages\\sklearn\\gaussian_process\\kernels.py:455: ConvergenceWarning: The optimal value found for dimension 0 of parameter k1__k2__periodicity is close to the specified upper bound 20. Increasing the bound and calling fit again may find a better value.\n",
      "  warnings.warn(\n",
      "CV white_no_error:  40%|████      | 4/10 [01:03<01:34, 15.71s/it]c:\\Users\\seanw\\anaconda3\\Lib\\site-packages\\sklearn\\gaussian_process\\kernels.py:455: ConvergenceWarning: The optimal value found for dimension 0 of parameter k1__k2__periodicity is close to the specified upper bound 20. Increasing the bound and calling fit again may find a better value.\n",
      "  warnings.warn(\n",
      "CV white_no_error:  50%|█████     | 5/10 [01:19<01:18, 15.69s/it]c:\\Users\\seanw\\anaconda3\\Lib\\site-packages\\sklearn\\gaussian_process\\kernels.py:455: ConvergenceWarning: The optimal value found for dimension 0 of parameter k1__k2__periodicity is close to the specified upper bound 20. Increasing the bound and calling fit again may find a better value.\n",
      "  warnings.warn(\n",
      "CV white_no_error:  70%|███████   | 7/10 [01:50<00:47, 15.76s/it]c:\\Users\\seanw\\anaconda3\\Lib\\site-packages\\sklearn\\gaussian_process\\kernels.py:455: ConvergenceWarning: The optimal value found for dimension 0 of parameter k1__k2__periodicity is close to the specified upper bound 20. Increasing the bound and calling fit again may find a better value.\n",
      "  warnings.warn(\n",
      "CV white_no_error:  80%|████████  | 8/10 [02:06<00:31, 15.84s/it]c:\\Users\\seanw\\anaconda3\\Lib\\site-packages\\sklearn\\gaussian_process\\kernels.py:455: ConvergenceWarning: The optimal value found for dimension 0 of parameter k1__k2__periodicity is close to the specified upper bound 20. Increasing the bound and calling fit again may find a better value.\n",
      "  warnings.warn(\n",
      "CV white_no_error:  90%|█████████ | 9/10 [02:21<00:15, 15.33s/it]c:\\Users\\seanw\\anaconda3\\Lib\\site-packages\\sklearn\\gaussian_process\\kernels.py:455: ConvergenceWarning: The optimal value found for dimension 0 of parameter k1__k2__periodicity is close to the specified upper bound 20. Increasing the bound and calling fit again may find a better value.\n",
      "  warnings.warn(\n",
      "CV white_no_error: 100%|██████████| 10/10 [02:36<00:00, 15.62s/it]\n"
     ]
    },
    {
     "name": "stdout",
     "output_type": "stream",
     "text": [
      "\n",
      "Running CV for model type: white_mean_error\n"
     ]
    },
    {
     "name": "stderr",
     "output_type": "stream",
     "text": [
      "CV white_mean_error:   0%|          | 0/10 [00:00<?, ?it/s]c:\\Users\\seanw\\anaconda3\\Lib\\site-packages\\sklearn\\gaussian_process\\kernels.py:445: ConvergenceWarning: The optimal value found for dimension 0 of parameter k2__noise_level is close to the specified lower bound 0.5143804386540594. Decreasing the bound and calling fit again may find a better value.\n",
      "  warnings.warn(\n",
      "CV white_mean_error:  10%|█         | 1/10 [00:37<05:39, 37.76s/it]c:\\Users\\seanw\\anaconda3\\Lib\\site-packages\\sklearn\\gaussian_process\\kernels.py:445: ConvergenceWarning: The optimal value found for dimension 0 of parameter k2__noise_level is close to the specified lower bound 0.5267006904199005. Decreasing the bound and calling fit again may find a better value.\n",
      "  warnings.warn(\n",
      "CV white_mean_error:  20%|██        | 2/10 [01:12<04:46, 35.78s/it]c:\\Users\\seanw\\anaconda3\\Lib\\site-packages\\sklearn\\gaussian_process\\kernels.py:445: ConvergenceWarning: The optimal value found for dimension 0 of parameter k2__noise_level is close to the specified lower bound 0.5327198017563276. Decreasing the bound and calling fit again may find a better value.\n",
      "  warnings.warn(\n",
      "CV white_mean_error:  30%|███       | 3/10 [01:48<04:13, 36.19s/it]c:\\Users\\seanw\\anaconda3\\Lib\\site-packages\\sklearn\\gaussian_process\\kernels.py:445: ConvergenceWarning: The optimal value found for dimension 0 of parameter k2__noise_level is close to the specified lower bound 0.4800501673531073. Decreasing the bound and calling fit again may find a better value.\n",
      "  warnings.warn(\n",
      "CV white_mean_error:  40%|████      | 4/10 [02:18<03:22, 33.71s/it]c:\\Users\\seanw\\anaconda3\\Lib\\site-packages\\sklearn\\gaussian_process\\kernels.py:445: ConvergenceWarning: The optimal value found for dimension 0 of parameter k2__noise_level is close to the specified lower bound 0.5063372927053018. Decreasing the bound and calling fit again may find a better value.\n",
      "  warnings.warn(\n",
      "CV white_mean_error:  50%|█████     | 5/10 [02:49<02:44, 32.82s/it]c:\\Users\\seanw\\anaconda3\\Lib\\site-packages\\sklearn\\gaussian_process\\kernels.py:445: ConvergenceWarning: The optimal value found for dimension 0 of parameter k2__noise_level is close to the specified lower bound 0.5141309841853249. Decreasing the bound and calling fit again may find a better value.\n",
      "  warnings.warn(\n",
      "CV white_mean_error:  60%|██████    | 6/10 [03:27<02:17, 34.37s/it]c:\\Users\\seanw\\anaconda3\\Lib\\site-packages\\sklearn\\gaussian_process\\kernels.py:445: ConvergenceWarning: The optimal value found for dimension 0 of parameter k2__noise_level is close to the specified lower bound 0.5259317592585413. Decreasing the bound and calling fit again may find a better value.\n",
      "  warnings.warn(\n",
      "CV white_mean_error:  70%|███████   | 7/10 [04:00<01:41, 33.91s/it]c:\\Users\\seanw\\anaconda3\\Lib\\site-packages\\sklearn\\gaussian_process\\kernels.py:445: ConvergenceWarning: The optimal value found for dimension 0 of parameter k2__noise_level is close to the specified lower bound 0.5241974273565195. Decreasing the bound and calling fit again may find a better value.\n",
      "  warnings.warn(\n",
      "CV white_mean_error:  80%|████████  | 8/10 [04:28<01:04, 32.04s/it]c:\\Users\\seanw\\anaconda3\\Lib\\site-packages\\sklearn\\gaussian_process\\kernels.py:445: ConvergenceWarning: The optimal value found for dimension 0 of parameter k2__noise_level is close to the specified lower bound 0.5022910777532603. Decreasing the bound and calling fit again may find a better value.\n",
      "  warnings.warn(\n",
      "CV white_mean_error:  90%|█████████ | 9/10 [05:02<00:32, 32.59s/it]c:\\Users\\seanw\\anaconda3\\Lib\\site-packages\\sklearn\\gaussian_process\\kernels.py:445: ConvergenceWarning: The optimal value found for dimension 0 of parameter k2__noise_level is close to the specified lower bound 0.5388899645688557. Decreasing the bound and calling fit again may find a better value.\n",
      "  warnings.warn(\n",
      "CV white_mean_error: 100%|██████████| 10/10 [05:35<00:00, 33.54s/it]\n"
     ]
    },
    {
     "name": "stdout",
     "output_type": "stream",
     "text": [
      "\n",
      "Running CV for model type: white_minmax_error\n"
     ]
    },
    {
     "name": "stderr",
     "output_type": "stream",
     "text": [
      "CV white_minmax_error: 100%|██████████| 10/10 [06:03<00:00, 36.38s/it]\n"
     ]
    },
    {
     "name": "stdout",
     "output_type": "stream",
     "text": [
      "\n",
      "Running CV for model type: fixed_alpha\n"
     ]
    },
    {
     "name": "stderr",
     "output_type": "stream",
     "text": [
      "CV fixed_alpha: 100%|██████████| 10/10 [02:05<00:00, 12.54s/it]\n"
     ]
    },
    {
     "name": "stdout",
     "output_type": "stream",
     "text": [
      "\n",
      "\n",
      "Running CV for kernel: Laplace\n",
      "\n",
      "Running CV for model type: white_no_error\n"
     ]
    },
    {
     "name": "stderr",
     "output_type": "stream",
     "text": [
      "CV white_no_error:   0%|          | 0/10 [00:00<?, ?it/s]c:\\Users\\seanw\\anaconda3\\Lib\\site-packages\\sklearn\\gaussian_process\\kernels.py:445: ConvergenceWarning: The optimal value found for dimension 0 of parameter k2__noise_level is close to the specified lower bound 0.0001. Decreasing the bound and calling fit again may find a better value.\n",
      "  warnings.warn(\n",
      "CV white_no_error:  10%|█         | 1/10 [00:53<08:00, 53.39s/it]c:\\Users\\seanw\\anaconda3\\Lib\\site-packages\\sklearn\\gaussian_process\\_gpr.py:663: ConvergenceWarning: lbfgs failed to converge (status=2):\n",
      "ABNORMAL_TERMINATION_IN_LNSRCH.\n",
      "\n",
      "Increase the number of iterations (max_iter) or scale the data as shown in:\n",
      "    https://scikit-learn.org/stable/modules/preprocessing.html\n",
      "  _check_optimize_result(\"lbfgs\", opt_res)\n",
      "c:\\Users\\seanw\\anaconda3\\Lib\\site-packages\\sklearn\\gaussian_process\\kernels.py:445: ConvergenceWarning: The optimal value found for dimension 0 of parameter k2__noise_level is close to the specified lower bound 0.0001. Decreasing the bound and calling fit again may find a better value.\n",
      "  warnings.warn(\n",
      "CV white_no_error:  30%|███       | 3/10 [02:43<06:22, 54.69s/it]c:\\Users\\seanw\\anaconda3\\Lib\\site-packages\\sklearn\\gaussian_process\\kernels.py:445: ConvergenceWarning: The optimal value found for dimension 0 of parameter k2__noise_level is close to the specified lower bound 0.0001. Decreasing the bound and calling fit again may find a better value.\n",
      "  warnings.warn(\n",
      "CV white_no_error:  40%|████      | 4/10 [03:33<05:15, 52.61s/it]c:\\Users\\seanw\\anaconda3\\Lib\\site-packages\\sklearn\\gaussian_process\\_gpr.py:663: ConvergenceWarning: lbfgs failed to converge (status=2):\n",
      "ABNORMAL_TERMINATION_IN_LNSRCH.\n",
      "\n",
      "Increase the number of iterations (max_iter) or scale the data as shown in:\n",
      "    https://scikit-learn.org/stable/modules/preprocessing.html\n",
      "  _check_optimize_result(\"lbfgs\", opt_res)\n",
      "c:\\Users\\seanw\\anaconda3\\Lib\\site-packages\\sklearn\\gaussian_process\\kernels.py:445: ConvergenceWarning: The optimal value found for dimension 0 of parameter k2__noise_level is close to the specified lower bound 0.0001. Decreasing the bound and calling fit again may find a better value.\n",
      "  warnings.warn(\n",
      "CV white_no_error:  50%|█████     | 5/10 [04:26<04:24, 52.87s/it]c:\\Users\\seanw\\anaconda3\\Lib\\site-packages\\sklearn\\gaussian_process\\_gpr.py:663: ConvergenceWarning: lbfgs failed to converge (status=2):\n",
      "ABNORMAL_TERMINATION_IN_LNSRCH.\n",
      "\n",
      "Increase the number of iterations (max_iter) or scale the data as shown in:\n",
      "    https://scikit-learn.org/stable/modules/preprocessing.html\n",
      "  _check_optimize_result(\"lbfgs\", opt_res)\n",
      "CV white_no_error:  60%|██████    | 6/10 [05:32<03:48, 57.22s/it]c:\\Users\\seanw\\anaconda3\\Lib\\site-packages\\sklearn\\gaussian_process\\kernels.py:445: ConvergenceWarning: The optimal value found for dimension 0 of parameter k2__noise_level is close to the specified lower bound 0.0001. Decreasing the bound and calling fit again may find a better value.\n",
      "  warnings.warn(\n",
      "CV white_no_error:  70%|███████   | 7/10 [06:32<02:55, 58.36s/it]c:\\Users\\seanw\\anaconda3\\Lib\\site-packages\\sklearn\\gaussian_process\\kernels.py:445: ConvergenceWarning: The optimal value found for dimension 0 of parameter k2__noise_level is close to the specified lower bound 0.0001. Decreasing the bound and calling fit again may find a better value.\n",
      "  warnings.warn(\n",
      "CV white_no_error:  80%|████████  | 8/10 [07:31<01:56, 58.28s/it]c:\\Users\\seanw\\anaconda3\\Lib\\site-packages\\sklearn\\gaussian_process\\kernels.py:445: ConvergenceWarning: The optimal value found for dimension 0 of parameter k2__noise_level is close to the specified lower bound 0.0001. Decreasing the bound and calling fit again may find a better value.\n",
      "  warnings.warn(\n",
      "CV white_no_error:  90%|█████████ | 9/10 [08:30<00:58, 58.53s/it]c:\\Users\\seanw\\anaconda3\\Lib\\site-packages\\sklearn\\gaussian_process\\_gpr.py:663: ConvergenceWarning: lbfgs failed to converge (status=2):\n",
      "ABNORMAL_TERMINATION_IN_LNSRCH.\n",
      "\n",
      "Increase the number of iterations (max_iter) or scale the data as shown in:\n",
      "    https://scikit-learn.org/stable/modules/preprocessing.html\n",
      "  _check_optimize_result(\"lbfgs\", opt_res)\n",
      "c:\\Users\\seanw\\anaconda3\\Lib\\site-packages\\sklearn\\gaussian_process\\kernels.py:445: ConvergenceWarning: The optimal value found for dimension 0 of parameter k2__noise_level is close to the specified lower bound 0.0001. Decreasing the bound and calling fit again may find a better value.\n",
      "  warnings.warn(\n",
      "CV white_no_error: 100%|██████████| 10/10 [09:28<00:00, 56.84s/it]\n"
     ]
    },
    {
     "name": "stdout",
     "output_type": "stream",
     "text": [
      "\n",
      "Running CV for model type: white_mean_error\n"
     ]
    },
    {
     "name": "stderr",
     "output_type": "stream",
     "text": [
      "CV white_mean_error:   0%|          | 0/10 [00:00<?, ?it/s]c:\\Users\\seanw\\anaconda3\\Lib\\site-packages\\sklearn\\gaussian_process\\kernels.py:445: ConvergenceWarning: The optimal value found for dimension 0 of parameter k2__noise_level is close to the specified lower bound 0.5143804386540594. Decreasing the bound and calling fit again may find a better value.\n",
      "  warnings.warn(\n",
      "CV white_mean_error:  10%|█         | 1/10 [00:48<07:13, 48.15s/it]c:\\Users\\seanw\\anaconda3\\Lib\\site-packages\\sklearn\\gaussian_process\\kernels.py:445: ConvergenceWarning: The optimal value found for dimension 0 of parameter k2__noise_level is close to the specified lower bound 0.5267006904199005. Decreasing the bound and calling fit again may find a better value.\n",
      "  warnings.warn(\n",
      "CV white_mean_error:  20%|██        | 2/10 [01:36<06:27, 48.39s/it]c:\\Users\\seanw\\anaconda3\\Lib\\site-packages\\sklearn\\gaussian_process\\kernels.py:445: ConvergenceWarning: The optimal value found for dimension 0 of parameter k2__noise_level is close to the specified lower bound 0.5327198017563276. Decreasing the bound and calling fit again may find a better value.\n",
      "  warnings.warn(\n",
      "CV white_mean_error:  30%|███       | 3/10 [02:27<05:47, 49.57s/it]c:\\Users\\seanw\\anaconda3\\Lib\\site-packages\\sklearn\\gaussian_process\\kernels.py:445: ConvergenceWarning: The optimal value found for dimension 0 of parameter k2__noise_level is close to the specified lower bound 0.4800501673531073. Decreasing the bound and calling fit again may find a better value.\n",
      "  warnings.warn(\n",
      "CV white_mean_error:  40%|████      | 4/10 [03:16<04:55, 49.28s/it]c:\\Users\\seanw\\anaconda3\\Lib\\site-packages\\sklearn\\gaussian_process\\kernels.py:445: ConvergenceWarning: The optimal value found for dimension 0 of parameter k2__noise_level is close to the specified lower bound 0.5063372927053018. Decreasing the bound and calling fit again may find a better value.\n",
      "  warnings.warn(\n",
      "CV white_mean_error:  50%|█████     | 5/10 [04:06<04:07, 49.42s/it]c:\\Users\\seanw\\anaconda3\\Lib\\site-packages\\sklearn\\gaussian_process\\kernels.py:445: ConvergenceWarning: The optimal value found for dimension 0 of parameter k2__noise_level is close to the specified lower bound 0.5141309841853249. Decreasing the bound and calling fit again may find a better value.\n",
      "  warnings.warn(\n",
      "CV white_mean_error:  60%|██████    | 6/10 [04:53<03:15, 48.79s/it]c:\\Users\\seanw\\anaconda3\\Lib\\site-packages\\sklearn\\gaussian_process\\kernels.py:445: ConvergenceWarning: The optimal value found for dimension 0 of parameter k2__noise_level is close to the specified lower bound 0.5259317592585413. Decreasing the bound and calling fit again may find a better value.\n",
      "  warnings.warn(\n",
      "CV white_mean_error:  70%|███████   | 7/10 [05:40<02:24, 48.22s/it]c:\\Users\\seanw\\anaconda3\\Lib\\site-packages\\sklearn\\gaussian_process\\kernels.py:445: ConvergenceWarning: The optimal value found for dimension 0 of parameter k2__noise_level is close to the specified lower bound 0.5241974273565195. Decreasing the bound and calling fit again may find a better value.\n",
      "  warnings.warn(\n",
      "CV white_mean_error:  80%|████████  | 8/10 [06:27<01:35, 47.72s/it]c:\\Users\\seanw\\anaconda3\\Lib\\site-packages\\sklearn\\gaussian_process\\kernels.py:445: ConvergenceWarning: The optimal value found for dimension 0 of parameter k2__noise_level is close to the specified lower bound 0.5022910777532603. Decreasing the bound and calling fit again may find a better value.\n",
      "  warnings.warn(\n",
      "CV white_mean_error:  90%|█████████ | 9/10 [07:14<00:47, 47.46s/it]c:\\Users\\seanw\\anaconda3\\Lib\\site-packages\\sklearn\\gaussian_process\\kernels.py:445: ConvergenceWarning: The optimal value found for dimension 0 of parameter k2__noise_level is close to the specified lower bound 0.5388899645688557. Decreasing the bound and calling fit again may find a better value.\n",
      "  warnings.warn(\n",
      "CV white_mean_error: 100%|██████████| 10/10 [07:52<00:00, 47.30s/it]\n"
     ]
    },
    {
     "name": "stdout",
     "output_type": "stream",
     "text": [
      "\n",
      "Running CV for model type: white_minmax_error\n"
     ]
    },
    {
     "name": "stderr",
     "output_type": "stream",
     "text": [
      "CV white_minmax_error:   0%|          | 0/10 [00:00<?, ?it/s]c:\\Users\\seanw\\anaconda3\\Lib\\site-packages\\sklearn\\gaussian_process\\kernels.py:455: ConvergenceWarning: The optimal value found for dimension 0 of parameter k1__k1__constant_value is close to the specified upper bound 20.0. Increasing the bound and calling fit again may find a better value.\n",
      "  warnings.warn(\n",
      "c:\\Users\\seanw\\anaconda3\\Lib\\site-packages\\sklearn\\gaussian_process\\kernels.py:445: ConvergenceWarning: The optimal value found for dimension 0 of parameter k2__noise_level is close to the specified lower bound 0.012608095136544591. Decreasing the bound and calling fit again may find a better value.\n",
      "  warnings.warn(\n",
      "CV white_minmax_error:  10%|█         | 1/10 [00:58<08:42, 58.10s/it]c:\\Users\\seanw\\anaconda3\\Lib\\site-packages\\sklearn\\gaussian_process\\kernels.py:455: ConvergenceWarning: The optimal value found for dimension 0 of parameter k1__k1__constant_value is close to the specified upper bound 20.0. Increasing the bound and calling fit again may find a better value.\n",
      "  warnings.warn(\n",
      "c:\\Users\\seanw\\anaconda3\\Lib\\site-packages\\sklearn\\gaussian_process\\kernels.py:445: ConvergenceWarning: The optimal value found for dimension 0 of parameter k2__noise_level is close to the specified lower bound 0.012608095136544591. Decreasing the bound and calling fit again may find a better value.\n",
      "  warnings.warn(\n",
      "CV white_minmax_error:  20%|██        | 2/10 [02:02<08:14, 61.85s/it]c:\\Users\\seanw\\anaconda3\\Lib\\site-packages\\sklearn\\gaussian_process\\_gpr.py:663: ConvergenceWarning: lbfgs failed to converge (status=2):\n",
      "ABNORMAL_TERMINATION_IN_LNSRCH.\n",
      "\n",
      "Increase the number of iterations (max_iter) or scale the data as shown in:\n",
      "    https://scikit-learn.org/stable/modules/preprocessing.html\n",
      "  _check_optimize_result(\"lbfgs\", opt_res)\n",
      "c:\\Users\\seanw\\anaconda3\\Lib\\site-packages\\sklearn\\gaussian_process\\_gpr.py:663: ConvergenceWarning: lbfgs failed to converge (status=2):\n",
      "ABNORMAL_TERMINATION_IN_LNSRCH.\n",
      "\n",
      "Increase the number of iterations (max_iter) or scale the data as shown in:\n",
      "    https://scikit-learn.org/stable/modules/preprocessing.html\n",
      "  _check_optimize_result(\"lbfgs\", opt_res)\n",
      "c:\\Users\\seanw\\anaconda3\\Lib\\site-packages\\sklearn\\gaussian_process\\kernels.py:455: ConvergenceWarning: The optimal value found for dimension 0 of parameter k1__k1__constant_value is close to the specified upper bound 20.0. Increasing the bound and calling fit again may find a better value.\n",
      "  warnings.warn(\n",
      "c:\\Users\\seanw\\anaconda3\\Lib\\site-packages\\sklearn\\gaussian_process\\kernels.py:445: ConvergenceWarning: The optimal value found for dimension 0 of parameter k2__noise_level is close to the specified lower bound 0.012608095136544591. Decreasing the bound and calling fit again may find a better value.\n",
      "  warnings.warn(\n",
      "CV white_minmax_error:  30%|███       | 3/10 [03:02<07:06, 60.97s/it]c:\\Users\\seanw\\anaconda3\\Lib\\site-packages\\sklearn\\gaussian_process\\kernels.py:455: ConvergenceWarning: The optimal value found for dimension 0 of parameter k1__k1__constant_value is close to the specified upper bound 20.0. Increasing the bound and calling fit again may find a better value.\n",
      "  warnings.warn(\n",
      "c:\\Users\\seanw\\anaconda3\\Lib\\site-packages\\sklearn\\gaussian_process\\kernels.py:445: ConvergenceWarning: The optimal value found for dimension 0 of parameter k2__noise_level is close to the specified lower bound 0.012608095136544591. Decreasing the bound and calling fit again may find a better value.\n",
      "  warnings.warn(\n",
      "CV white_minmax_error:  40%|████      | 4/10 [04:00<05:59, 59.86s/it]c:\\Users\\seanw\\anaconda3\\Lib\\site-packages\\sklearn\\gaussian_process\\kernels.py:445: ConvergenceWarning: The optimal value found for dimension 0 of parameter k2__noise_level is close to the specified lower bound 0.01824035829373275. Decreasing the bound and calling fit again may find a better value.\n",
      "  warnings.warn(\n",
      "CV white_minmax_error:  50%|█████     | 5/10 [04:58<04:55, 59.16s/it]c:\\Users\\seanw\\anaconda3\\Lib\\site-packages\\sklearn\\gaussian_process\\kernels.py:455: ConvergenceWarning: The optimal value found for dimension 0 of parameter k1__k1__constant_value is close to the specified upper bound 20.0. Increasing the bound and calling fit again may find a better value.\n",
      "  warnings.warn(\n",
      "c:\\Users\\seanw\\anaconda3\\Lib\\site-packages\\sklearn\\gaussian_process\\kernels.py:445: ConvergenceWarning: The optimal value found for dimension 0 of parameter k2__noise_level is close to the specified lower bound 0.012608095136544591. Decreasing the bound and calling fit again may find a better value.\n",
      "  warnings.warn(\n",
      "CV white_minmax_error:  60%|██████    | 6/10 [05:52<03:49, 57.33s/it]c:\\Users\\seanw\\anaconda3\\Lib\\site-packages\\sklearn\\gaussian_process\\_gpr.py:663: ConvergenceWarning: lbfgs failed to converge (status=2):\n",
      "ABNORMAL_TERMINATION_IN_LNSRCH.\n",
      "\n",
      "Increase the number of iterations (max_iter) or scale the data as shown in:\n",
      "    https://scikit-learn.org/stable/modules/preprocessing.html\n",
      "  _check_optimize_result(\"lbfgs\", opt_res)\n",
      "c:\\Users\\seanw\\anaconda3\\Lib\\site-packages\\sklearn\\gaussian_process\\kernels.py:455: ConvergenceWarning: The optimal value found for dimension 0 of parameter k1__k1__constant_value is close to the specified upper bound 20.0. Increasing the bound and calling fit again may find a better value.\n",
      "  warnings.warn(\n",
      "c:\\Users\\seanw\\anaconda3\\Lib\\site-packages\\sklearn\\gaussian_process\\kernels.py:445: ConvergenceWarning: The optimal value found for dimension 0 of parameter k2__noise_level is close to the specified lower bound 0.012608095136544591. Decreasing the bound and calling fit again may find a better value.\n",
      "  warnings.warn(\n",
      "CV white_minmax_error:  70%|███████   | 7/10 [06:52<02:54, 58.32s/it]c:\\Users\\seanw\\anaconda3\\Lib\\site-packages\\sklearn\\gaussian_process\\_gpr.py:663: ConvergenceWarning: lbfgs failed to converge (status=2):\n",
      "ABNORMAL_TERMINATION_IN_LNSRCH.\n",
      "\n",
      "Increase the number of iterations (max_iter) or scale the data as shown in:\n",
      "    https://scikit-learn.org/stable/modules/preprocessing.html\n",
      "  _check_optimize_result(\"lbfgs\", opt_res)\n",
      "c:\\Users\\seanw\\anaconda3\\Lib\\site-packages\\sklearn\\gaussian_process\\kernels.py:455: ConvergenceWarning: The optimal value found for dimension 0 of parameter k1__k1__constant_value is close to the specified upper bound 20.0. Increasing the bound and calling fit again may find a better value.\n",
      "  warnings.warn(\n",
      "c:\\Users\\seanw\\anaconda3\\Lib\\site-packages\\sklearn\\gaussian_process\\kernels.py:445: ConvergenceWarning: The optimal value found for dimension 0 of parameter k2__noise_level is close to the specified lower bound 0.012608095136544591. Decreasing the bound and calling fit again may find a better value.\n",
      "  warnings.warn(\n",
      "CV white_minmax_error:  80%|████████  | 8/10 [07:53<01:57, 58.97s/it]c:\\Users\\seanw\\anaconda3\\Lib\\site-packages\\sklearn\\gaussian_process\\_gpr.py:663: ConvergenceWarning: lbfgs failed to converge (status=2):\n",
      "ABNORMAL_TERMINATION_IN_LNSRCH.\n",
      "\n",
      "Increase the number of iterations (max_iter) or scale the data as shown in:\n",
      "    https://scikit-learn.org/stable/modules/preprocessing.html\n",
      "  _check_optimize_result(\"lbfgs\", opt_res)\n",
      "c:\\Users\\seanw\\anaconda3\\Lib\\site-packages\\sklearn\\gaussian_process\\kernels.py:455: ConvergenceWarning: The optimal value found for dimension 0 of parameter k1__k1__constant_value is close to the specified upper bound 20.0. Increasing the bound and calling fit again may find a better value.\n",
      "  warnings.warn(\n",
      "c:\\Users\\seanw\\anaconda3\\Lib\\site-packages\\sklearn\\gaussian_process\\kernels.py:445: ConvergenceWarning: The optimal value found for dimension 0 of parameter k2__noise_level is close to the specified lower bound 0.012608095136544591. Decreasing the bound and calling fit again may find a better value.\n",
      "  warnings.warn(\n",
      "CV white_minmax_error:  90%|█████████ | 9/10 [08:52<00:59, 59.01s/it]c:\\Users\\seanw\\anaconda3\\Lib\\site-packages\\sklearn\\gaussian_process\\kernels.py:455: ConvergenceWarning: The optimal value found for dimension 0 of parameter k1__k1__constant_value is close to the specified upper bound 20.0. Increasing the bound and calling fit again may find a better value.\n",
      "  warnings.warn(\n",
      "c:\\Users\\seanw\\anaconda3\\Lib\\site-packages\\sklearn\\gaussian_process\\kernels.py:445: ConvergenceWarning: The optimal value found for dimension 0 of parameter k2__noise_level is close to the specified lower bound 0.012608095136544591. Decreasing the bound and calling fit again may find a better value.\n",
      "  warnings.warn(\n",
      "CV white_minmax_error: 100%|██████████| 10/10 [09:46<00:00, 58.66s/it]\n"
     ]
    },
    {
     "name": "stdout",
     "output_type": "stream",
     "text": [
      "\n",
      "Running CV for model type: fixed_alpha\n"
     ]
    },
    {
     "name": "stderr",
     "output_type": "stream",
     "text": [
      "CV fixed_alpha:  20%|██        | 2/10 [00:52<03:32, 26.57s/it]c:\\Users\\seanw\\anaconda3\\Lib\\site-packages\\sklearn\\gaussian_process\\_gpr.py:663: ConvergenceWarning: lbfgs failed to converge (status=2):\n",
      "ABNORMAL_TERMINATION_IN_LNSRCH.\n",
      "\n",
      "Increase the number of iterations (max_iter) or scale the data as shown in:\n",
      "    https://scikit-learn.org/stable/modules/preprocessing.html\n",
      "  _check_optimize_result(\"lbfgs\", opt_res)\n",
      "CV fixed_alpha: 100%|██████████| 10/10 [04:21<00:00, 26.16s/it]\n"
     ]
    },
    {
     "name": "stdout",
     "output_type": "stream",
     "text": [
      "\n",
      "\n",
      "Running CV for kernel: RBF\n",
      "\n",
      "Running CV for model type: white_no_error\n"
     ]
    },
    {
     "name": "stderr",
     "output_type": "stream",
     "text": [
      "CV white_no_error: 100%|██████████| 10/10 [15:54<00:00, 95.42s/it]\n"
     ]
    },
    {
     "name": "stdout",
     "output_type": "stream",
     "text": [
      "\n",
      "Running CV for model type: white_mean_error\n"
     ]
    },
    {
     "name": "stderr",
     "output_type": "stream",
     "text": [
      "CV white_mean_error:   0%|          | 0/10 [00:00<?, ?it/s]c:\\Users\\seanw\\anaconda3\\Lib\\site-packages\\sklearn\\gaussian_process\\kernels.py:445: ConvergenceWarning: The optimal value found for dimension 0 of parameter k2__noise_level is close to the specified lower bound 0.5143804386540594. Decreasing the bound and calling fit again may find a better value.\n",
      "  warnings.warn(\n",
      "CV white_mean_error:  10%|█         | 1/10 [01:05<09:47, 65.26s/it]c:\\Users\\seanw\\anaconda3\\Lib\\site-packages\\sklearn\\gaussian_process\\kernels.py:445: ConvergenceWarning: The optimal value found for dimension 0 of parameter k2__noise_level is close to the specified lower bound 0.5267006904199005. Decreasing the bound and calling fit again may find a better value.\n",
      "  warnings.warn(\n",
      "CV white_mean_error:  20%|██        | 2/10 [02:14<09:03, 67.88s/it]c:\\Users\\seanw\\anaconda3\\Lib\\site-packages\\sklearn\\gaussian_process\\kernels.py:445: ConvergenceWarning: The optimal value found for dimension 0 of parameter k2__noise_level is close to the specified lower bound 0.5327198017563276. Decreasing the bound and calling fit again may find a better value.\n",
      "  warnings.warn(\n",
      "CV white_mean_error:  30%|███       | 3/10 [03:27<08:08, 69.85s/it]c:\\Users\\seanw\\anaconda3\\Lib\\site-packages\\sklearn\\gaussian_process\\kernels.py:445: ConvergenceWarning: The optimal value found for dimension 0 of parameter k2__noise_level is close to the specified lower bound 0.4800501673531073. Decreasing the bound and calling fit again may find a better value.\n",
      "  warnings.warn(\n",
      "CV white_mean_error:  40%|████      | 4/10 [04:38<07:01, 70.31s/it]c:\\Users\\seanw\\anaconda3\\Lib\\site-packages\\sklearn\\gaussian_process\\kernels.py:445: ConvergenceWarning: The optimal value found for dimension 0 of parameter k2__noise_level is close to the specified lower bound 0.5063372927053018. Decreasing the bound and calling fit again may find a better value.\n",
      "  warnings.warn(\n",
      "CV white_mean_error:  50%|█████     | 5/10 [05:45<05:46, 69.23s/it]c:\\Users\\seanw\\anaconda3\\Lib\\site-packages\\sklearn\\gaussian_process\\kernels.py:445: ConvergenceWarning: The optimal value found for dimension 0 of parameter k2__noise_level is close to the specified lower bound 0.5141309841853249. Decreasing the bound and calling fit again may find a better value.\n",
      "  warnings.warn(\n",
      "CV white_mean_error:  60%|██████    | 6/10 [06:50<04:30, 67.65s/it]c:\\Users\\seanw\\anaconda3\\Lib\\site-packages\\sklearn\\gaussian_process\\kernels.py:445: ConvergenceWarning: The optimal value found for dimension 0 of parameter k2__noise_level is close to the specified lower bound 0.5259317592585413. Decreasing the bound and calling fit again may find a better value.\n",
      "  warnings.warn(\n",
      "CV white_mean_error:  70%|███████   | 7/10 [07:56<03:21, 67.12s/it]c:\\Users\\seanw\\anaconda3\\Lib\\site-packages\\sklearn\\gaussian_process\\kernels.py:445: ConvergenceWarning: The optimal value found for dimension 0 of parameter k2__noise_level is close to the specified lower bound 0.5241974273565195. Decreasing the bound and calling fit again may find a better value.\n",
      "  warnings.warn(\n",
      "CV white_mean_error:  80%|████████  | 8/10 [09:02<02:13, 66.73s/it]c:\\Users\\seanw\\anaconda3\\Lib\\site-packages\\sklearn\\gaussian_process\\kernels.py:445: ConvergenceWarning: The optimal value found for dimension 0 of parameter k2__noise_level is close to the specified lower bound 0.5022910777532603. Decreasing the bound and calling fit again may find a better value.\n",
      "  warnings.warn(\n",
      "CV white_mean_error:  90%|█████████ | 9/10 [10:11<01:07, 67.66s/it]c:\\Users\\seanw\\anaconda3\\Lib\\site-packages\\sklearn\\gaussian_process\\kernels.py:445: ConvergenceWarning: The optimal value found for dimension 0 of parameter k2__noise_level is close to the specified lower bound 0.5388899645688557. Decreasing the bound and calling fit again may find a better value.\n",
      "  warnings.warn(\n",
      "CV white_mean_error: 100%|██████████| 10/10 [11:14<00:00, 67.44s/it]\n"
     ]
    },
    {
     "name": "stdout",
     "output_type": "stream",
     "text": [
      "\n",
      "Running CV for model type: white_minmax_error\n"
     ]
    },
    {
     "name": "stderr",
     "output_type": "stream",
     "text": [
      "CV white_minmax_error:   0%|          | 0/10 [00:00<?, ?it/s]c:\\Users\\seanw\\anaconda3\\Lib\\site-packages\\sklearn\\gaussian_process\\kernels.py:445: ConvergenceWarning: The optimal value found for dimension 0 of parameter k2__noise_level is close to the specified lower bound 0.012608095136544591. Decreasing the bound and calling fit again may find a better value.\n",
      "  warnings.warn(\n",
      "CV white_minmax_error:  10%|█         | 1/10 [01:22<12:21, 82.42s/it]c:\\Users\\seanw\\anaconda3\\Lib\\site-packages\\sklearn\\gaussian_process\\kernels.py:445: ConvergenceWarning: The optimal value found for dimension 0 of parameter k2__noise_level is close to the specified lower bound 0.012608095136544591. Decreasing the bound and calling fit again may find a better value.\n",
      "  warnings.warn(\n",
      "CV white_minmax_error:  20%|██        | 2/10 [02:48<11:15, 84.40s/it]c:\\Users\\seanw\\anaconda3\\Lib\\site-packages\\sklearn\\gaussian_process\\kernels.py:445: ConvergenceWarning: The optimal value found for dimension 0 of parameter k2__noise_level is close to the specified lower bound 0.012608095136544591. Decreasing the bound and calling fit again may find a better value.\n",
      "  warnings.warn(\n",
      "CV white_minmax_error:  30%|███       | 3/10 [04:07<09:35, 82.22s/it]c:\\Users\\seanw\\anaconda3\\Lib\\site-packages\\sklearn\\gaussian_process\\kernels.py:445: ConvergenceWarning: The optimal value found for dimension 0 of parameter k2__noise_level is close to the specified lower bound 0.012608095136544591. Decreasing the bound and calling fit again may find a better value.\n",
      "  warnings.warn(\n",
      "CV white_minmax_error:  40%|████      | 4/10 [05:28<08:10, 81.75s/it]c:\\Users\\seanw\\anaconda3\\Lib\\site-packages\\sklearn\\gaussian_process\\kernels.py:445: ConvergenceWarning: The optimal value found for dimension 0 of parameter k2__noise_level is close to the specified lower bound 0.01824035829373275. Decreasing the bound and calling fit again may find a better value.\n",
      "  warnings.warn(\n",
      "CV white_minmax_error:  50%|█████     | 5/10 [06:54<06:55, 83.06s/it]c:\\Users\\seanw\\anaconda3\\Lib\\site-packages\\sklearn\\gaussian_process\\kernels.py:445: ConvergenceWarning: The optimal value found for dimension 0 of parameter k2__noise_level is close to the specified lower bound 0.012608095136544591. Decreasing the bound and calling fit again may find a better value.\n",
      "  warnings.warn(\n",
      "CV white_minmax_error:  60%|██████    | 6/10 [08:15<05:29, 82.47s/it]c:\\Users\\seanw\\anaconda3\\Lib\\site-packages\\sklearn\\gaussian_process\\kernels.py:445: ConvergenceWarning: The optimal value found for dimension 0 of parameter k2__noise_level is close to the specified lower bound 0.012608095136544591. Decreasing the bound and calling fit again may find a better value.\n",
      "  warnings.warn(\n",
      "CV white_minmax_error:  70%|███████   | 7/10 [09:33<04:02, 80.94s/it]c:\\Users\\seanw\\anaconda3\\Lib\\site-packages\\sklearn\\gaussian_process\\kernels.py:445: ConvergenceWarning: The optimal value found for dimension 0 of parameter k2__noise_level is close to the specified lower bound 0.012608095136544591. Decreasing the bound and calling fit again may find a better value.\n",
      "  warnings.warn(\n",
      "CV white_minmax_error:  80%|████████  | 8/10 [10:53<02:41, 80.56s/it]c:\\Users\\seanw\\anaconda3\\Lib\\site-packages\\sklearn\\gaussian_process\\kernels.py:445: ConvergenceWarning: The optimal value found for dimension 0 of parameter k2__noise_level is close to the specified lower bound 0.012608095136544591. Decreasing the bound and calling fit again may find a better value.\n",
      "  warnings.warn(\n",
      "CV white_minmax_error:  90%|█████████ | 9/10 [12:17<01:21, 81.85s/it]c:\\Users\\seanw\\anaconda3\\Lib\\site-packages\\sklearn\\gaussian_process\\kernels.py:445: ConvergenceWarning: The optimal value found for dimension 0 of parameter k2__noise_level is close to the specified lower bound 0.012608095136544591. Decreasing the bound and calling fit again may find a better value.\n",
      "  warnings.warn(\n",
      "CV white_minmax_error: 100%|██████████| 10/10 [13:38<00:00, 81.89s/it]\n"
     ]
    },
    {
     "name": "stdout",
     "output_type": "stream",
     "text": [
      "\n",
      "Running CV for model type: fixed_alpha\n"
     ]
    },
    {
     "name": "stderr",
     "output_type": "stream",
     "text": [
      "CV fixed_alpha: 100%|██████████| 10/10 [07:39<00:00, 45.92s/it]\n"
     ]
    }
   ],
   "source": [
    "bounds_lmult = ((1e-4, 10), (1e-4, 10.0), (1e-4, 10.0), (1e-4, 10.0))  # Fix l1 bounds\n",
    "guess_lmult = (1,1,1,1)\n",
    "bounds_lsingle = (1e-4, 10.0)\n",
    "ExpSinelbounds = (1e-1, 10.0)\n",
    "guess_lsingle = 1.0\n",
    "guess_signal_var = 1.0\n",
    "bounds_signal_var = (1e-2, 20)\n",
    "nu = 1.75\n",
    "alpha = 1\n",
    "periodicity = 2\n",
    "periodictybounds = (1, 20)\n",
    "gamma = 1\n",
    "Matkernel = C(constant_value=guess_signal_var, constant_value_bounds=bounds_signal_var) * Matern(length_scale=guess_lmult, length_scale_bounds=bounds_lmult, nu=nu)\n",
    "Radkernel = C(constant_value=guess_signal_var, constant_value_bounds=bounds_signal_var) * RationalQuadratic(length_scale=guess_lsingle, alpha=alpha, length_scale_bounds=bounds_lsingle)\n",
    "ExpSinekernel = C(constant_value=guess_signal_var, constant_value_bounds=bounds_signal_var) * ExpSineSquared(length_scale=guess_lsingle, periodicity=periodicity, length_scale_bounds=ExpSinelbounds,periodicity_bounds=periodictybounds)\n",
    "Laplacekernel = C(constant_value=guess_signal_var, constant_value_bounds=bounds_signal_var) * PairwiseKernel(gamma=gamma, metric='laplacian')\n",
    "RBFkernel = C(constant_value=guess_signal_var, constant_value_bounds=bounds_signal_var) * RBF(length_scale=guess_lmult, length_scale_bounds=bounds_lmult)\n",
    "kernels = {\n",
    "    \"Matern\": Matkernel,\n",
    "    \"RationalQuadratic\": Radkernel,\n",
    "    \"ExpSineSquared\": ExpSinekernel,\n",
    "    \"Laplace\": Laplacekernel,\n",
    "    \"RBF\": RBFkernel\n",
    "}\n",
    "modeltypes = ['white_no_error', 'white_mean_error','white_minmax_error','fixed_alpha']\n",
    "\n",
    "cv_results_all_kernels = {}\n",
    "for kernel_name, kernel_obj in kernels.items():\n",
    "    print(f\"\\n\\nRunning CV for kernel: {kernel_name}\")\n",
    "    cv_results = cross_validate_gpr(kernel_obj, modeltypes, X_trainval, D_trainval, E_trainval, folds=folds)\n",
    "    # Store results in the final dictionary under kernel name\n",
    "    cv_results_all_kernels[kernel_name] = cv_results"
   ]
  },
  {
   "cell_type": "code",
   "execution_count": 8,
   "metadata": {},
   "outputs": [
    {
     "data": {
      "text/plain": [
       "['cv_results_all_kernels.pkl']"
      ]
     },
     "execution_count": 8,
     "metadata": {},
     "output_type": "execute_result"
    }
   ],
   "source": [
    "cv_results_all_kernels\n",
    "joblib.dump(cv_results_all_kernels, 'cv_results_all_kernels.pkl')"
   ]
  },
  {
   "cell_type": "code",
   "execution_count": 9,
   "metadata": {},
   "outputs": [
    {
     "name": "stdout",
     "output_type": "stream",
     "text": [
      "{'Matern': {'white_no_error': {'r2': [0.9886976608532412, 0.9760740590775828, 0.991233208518017, 0.9170505401249724, 0.9944755287601859, 0.9889131540249749, 0.976174577542878, 0.9636008595831126, 0.9802819465348045, 0.9835647857400173], 'rmse': [0.03733507755532921, 0.05678286034521193, 0.03372613940337225, 0.10318332867242225, 0.028248535792664724, 0.0382894742763294, 0.04800067207213081, 0.06844070834953277, 0.05003631926938455, 0.04599602616623826], 'mae': [0.02587154824549528, 0.027992088947022077, 0.023368207064117186, 0.042313073436945105, 0.022941167112427482, 0.02880565050766248, 0.03172696512872745, 0.035727285235143985, 0.028935265956615233, 0.028829977497744814], 'adjusted_r2': [0.9881657860698643, 0.9749481324459397, 0.9908206536247472, 0.9131470361308535, 0.9942155536430182, 0.9883914200967384, 0.9750533811919546, 0.961887958857612, 0.9793540381364424, 0.9827913638924887], 'fom': [0.5130438880456283, 0.5325448397403203, 0.4677785368967309, 0.9581675612632756, 0.4724340668110367, 0.5428193737734412, 0.625755103398439, 0.7480436869269107, 0.6280409401170022, 0.5662206914888043], 'pearson': [0.994344136236283, 0.9882297276494761, 0.9956237028473116, 0.9591412301095747, 0.9973474438047426, 0.9945167398865987, 0.9880430153043891, 0.9825691588378116, 0.9904822612115469, 0.9923892402296841]}, 'white_mean_error': {'r2': [0.844079334012064, 0.8313982708186286, 0.8623757632648903, 0.8331297917717746, 0.84483460277381, 0.7765523606552744, 0.827932992090427, 0.8316908298665974, 0.8036166962796782, 0.8339015309193116], 'rmse': [0.1386707073646843, 0.1507348818341065, 0.13362685711690314, 0.14634980790245186, 0.14970903887458892, 0.17189501483082215, 0.12899587314067235, 0.1471711966851212, 0.15790853920918477, 0.14622291655407335], 'mae': [0.10574975656685616, 0.10819351145032492, 0.10342493640688756, 0.11914693588849624, 0.10943091898585212, 0.1263069130507619, 0.09579187467067156, 0.11640231832230986, 0.10859510236887528, 0.10718614136596456], 'adjusted_r2': [0.8367418909067494, 0.8234640717983288, 0.8558993285950027, 0.8252770760904463, 0.8375327017278715, 0.7660371776272874, 0.8198357211299765, 0.8237703983309078, 0.7943751290457808, 0.8260851323743381], 'fom': [0.3970955462363088, 0.40400990890258964, 0.3829767017490371, 0.4612122912017643, 0.41902690256324704, 0.475908424910475, 0.3517691175967721, 0.4328553773534958, 0.41167478560577847, 0.39449849948099475], 'pearson': [0.9203225913145262, 0.9120763678837364, 0.9289914197348331, 0.9143774611442002, 0.9219901271378927, 0.8817782077757461, 0.9100533365739174, 0.9122592027735275, 0.8974414340360544, 0.916069972690624]}, 'white_minmax_error': {'r2': [0.986573417832564, 0.9768828248774418, 0.9898316459676326, 0.9663667220465847, 0.9919956707837485, 0.9865188829759246, 0.9680591706057825, 0.9603520586647886, 0.9798654921110301, 0.978119076154667], 'rmse': [0.040692617607768086, 0.055814897829835904, 0.03632215619171291, 0.06570332543117217, 0.03400267267994117, 0.04222195472328508, 0.055577640808225644, 0.07142977020429024, 0.05056195348300472, 0.05307200004839195], 'mae': [0.028693478217967073, 0.03228004027461858, 0.02632988690693523, 0.03958129955806695, 0.02655472486656622, 0.03179256316340692, 0.03621362198992802, 0.04020966971624122, 0.031804871840011746, 0.033617547372439036], 'adjusted_r2': [0.9859415786717435, 0.9757949578128509, 0.9893531351896389, 0.9647839795546592, 0.9916189964676896, 0.9858844774689093, 0.966556072751937, 0.9584862731901904, 0.9789179858574315, 0.977089385620769], 'fom': [0.4843158545074437, 0.5106756906080275, 0.44676143159086534, 0.6235944245452575, 0.41053819645179435, 0.5218119829984795, 0.5422733095839266, 0.613128941258599, 0.5290873057372324, 0.5289808339835784], 'pearson': [0.9932667511519643, 0.9887791670916035, 0.9949422512316073, 0.9832031516276424, 0.9961242363113254, 0.9933616664230809, 0.9839133411490106, 0.9805807031763626, 0.990487933182103, 0.9894647061014756]}, 'fixed_alpha': {'r2': [0.8635086196858061, 0.848026496107163, 0.90783746812387, 0.7925703294222377, 0.8279118090167599, 0.8220512536419461, 0.8007502346682231, 0.8546551895519745, 0.7812316335182814, 0.8844765962430728], 'rmse': [0.12974346827429173, 0.14310891561338723, 0.10935118428518628, 0.16316920276369457, 0.15766166841412266, 0.1533991180707583, 0.13881165187009992, 0.13676302457387401, 0.16666545682727826, 0.12194601573502649], 'mae': [0.09077002857359313, 0.09571489383378216, 0.07947697224322504, 0.11547219535247437, 0.10732039380957725, 0.10973535787613958, 0.09565710215215313, 0.09825518406639915, 0.09304239651648225, 0.09064714909269976], 'adjusted_r2': [0.8570854959063146, 0.8408748018063236, 0.9035004078002874, 0.7828089331597547, 0.8198135412057839, 0.8136771949898024, 0.7913737751231984, 0.8478154337661851, 0.7709366515662005, 0.8790402007721586], 'fom': [1.0957206450112098, 1.2302568122958843, 1.1192806353136329, 1.4188384137258914, 1.4690250465716328, 1.505246259140491, 1.2910880075692168, 1.3635132331021054, 1.0580857543723767, 1.44019914127537], 'pearson': [0.9314133308690009, 0.9209284221601817, 0.9528244982926783, 0.8958117728670518, 0.913636178063117, 0.9069220540548188, 0.8962005392689161, 0.9251064822872272, 0.8924347489845372, 0.9421115568082256]}}, 'RationalQuadratic': {'white_no_error': {'r2': [0.8678142538297742, 0.822324658952085, 0.8638024763115268, 0.845646140811508, 0.8339374059211012, 0.7876633543863236, 0.8348384307924669, 0.8436628926370097, 0.8097539320165018, 0.8507468790527554], 'rmse': [0.12768068494809792, 0.15473776919255966, 0.1329324160081437, 0.14075424413574922, 0.15487684475247407, 0.16756676004702942, 0.1263809202384477, 0.14184040674356743, 0.15542152995788502, 0.1386099279758383], 'mae': [0.09640130669093444, 0.10543042572919575, 0.10206294928297299, 0.10983475600720613, 0.11114635608557308, 0.1228772221335992, 0.0953027319025727, 0.10761675302889726, 0.10805379871771811, 0.10099800333601387], 'adjusted_r2': [0.8615937481276459, 0.8139634664321831, 0.8573931810791281, 0.8383824297908731, 0.826122695611506, 0.7776710416515624, 0.8270661216532889, 0.836305852290516, 0.8008011758761019, 0.843723202772885], 'fom': [0.6565104447120624, 0.7450256111709714, 0.7078087694887607, 0.7564292496006775, 0.783938041786526, 0.8690799646962647, 0.6569213287641414, 0.7386765096966744, 0.7464208236129523, 0.6975905507689534], 'pearson': [0.932317318473515, 0.9081419793310137, 0.929895249788433, 0.9198638033513828, 0.9148847820837238, 0.8876360752593482, 0.9137047195128909, 0.9185612068920103, 0.9002639820470826, 0.9245535986820771]}, 'white_mean_error': {'r2': [0.8225169889539253, 0.8126993243845637, 0.8477451695963965, 0.8265452129420302, 0.8071901739839318, 0.7557029627408502, 0.8045274332269162, 0.8164506528689719, 0.7590419918638478, 0.8196276183507833], 'rmse': [0.14794874459981402, 0.15887385168714951, 0.1405503178939457, 0.1492093016902636, 0.16688417834082186, 0.1797357616592203, 0.1374896229588123, 0.15368990918194225, 0.17491377678342132, 0.152376378354424], 'mae': [0.113552691556037, 0.11152560195670902, 0.11047750151170337, 0.12126962828362933, 0.12316698333673126, 0.13188929236674207, 0.10187937522721326, 0.11684447948434071, 0.11508503976420922, 0.11163455430195346], 'adjusted_r2': [0.8141648472576395, 0.8038851749438373, 0.8405802364009327, 0.8183826347275375, 0.798116770406705, 0.7442066315757138, 0.7953287242023005, 0.8078130365333941, 0.74770279148097, 0.8111395062731732], 'fom': [0.42764982930653445, 0.4174080957118476, 0.40991043402147576, 0.47048762165603547, 0.4731100559117839, 0.49758330394506856, 0.3757760160974135, 0.43494919799253695, 0.43574278188850785, 0.4113769561846065], 'pearson': [0.9097203966879351, 0.9018278572102696, 0.9213310252289828, 0.910236148064744, 0.9024058426535717, 0.8696067893762812, 0.8975706525920105, 0.9044798519305903, 0.8746355966008628, 0.9096356307746123]}, 'white_minmax_error': {'r2': [0.8678142467847961, 0.822324694496922, 0.863802474314438, 0.845646097559044, 0.8339374070289775, 0.7876633514032476, 0.8348384605073532, 0.8436629024765545, 0.8097539140581034, 0.8507468784920387], 'rmse': [0.12768068835053592, 0.1547377537145281, 0.13293241698274966, 0.1407542638565631, 0.15487684423584847, 0.1675667612240857, 0.12638090886959577, 0.14184040227999162, 0.15542153729344188, 0.13860992823620438], 'mae': [0.09640130483206265, 0.10543041648986429, 0.10206295250546901, 0.10983476955511051, 0.11114635538251431, 0.12287722318451455, 0.09530271671826303, 0.1076167475444829, 0.10805380349014862, 0.10099800383875016], 'adjusted_r2': [0.8615937407511395, 0.8139635036497184, 0.8573931789880587, 0.838382384502999, 0.8261226967715176, 0.7776710385281063, 0.8270661527665228, 0.8363058625930982, 0.8008011570726024, 0.8437232021857817], 'fom': [0.6565101952830853, 0.7450258074595759, 0.7078088643568695, 0.7564291456110218, 0.7839380334087459, 0.8690799359164733, 0.6569210018479346, 0.7386764807237511, 0.7464206908193325, 0.6975905425706614], 'pearson': [0.9323173144695758, 0.9081419993107344, 0.929895248853359, 0.9198637808540044, 0.9148847826835372, 0.8876360735766251, 0.9137047358551871, 0.9185612120901714, 0.900263973413191, 0.9245535983344714]}, 'fixed_alpha': {'r2': [0.7598789264888429, 0.7805124666434423, 0.793156686155787, 0.7177517508231298, 0.7627691226522645, 0.751340564768068, 0.7194733981959309, 0.7957791916797485, 0.6382433301108659, 0.8542288618204302], 'rmse': [0.17208698609799994, 0.1719838558466034, 0.16382004307753253, 0.19033487932499563, 0.18511268959412566, 0.1813334263834583, 0.16470775152097203, 0.1621134048535967, 0.21431946112740002, 0.13698354453067493], 'mae': [0.1207900000578779, 0.11562062945576904, 0.11596438965389258, 0.13779822384914647, 0.13163223247735026, 0.12691809597445433, 0.11128264543466881, 0.11720475192791834, 0.1269641003942174, 0.10031693107443175], 'adjusted_r2': [0.7485791112647885, 0.7701836415443102, 0.7834228831513534, 0.70446948027363, 0.7516053166594299, 0.7396389442865654, 0.7062721463463277, 0.786168800699972, 0.6212194868219655, 0.8473690435531563], 'fom': [2.324590366656545, 2.2944492242493597, 2.497949142264628, 2.574166918846982, 2.803028170644965, 2.6048889329907223, 2.33656750925342, 2.478691649993813, 2.4074025330873843, 2.2867549062009416], 'pearson': [0.8755633504840248, 0.8868519518498073, 0.8954772191039916, 0.8615092394076143, 0.878858337395015, 0.8684633349973727, 0.8562448583621831, 0.8940042484758302, 0.8295417448882814, 0.9276675688397387]}}, 'ExpSineSquared': {'white_no_error': {'r2': [0.8250115021271529, 0.8239611460051164, 0.8619551637913478, 0.8454797614947697, 0.8220628619660227, 0.7331750171796916, 0.8357029365517915, 0.8430760899676227, 0.7839202182979006, 0.8470885933389569], 'rmse': [0.14690536004281443, 0.15402351097432612, 0.13383089279830082, 0.14083008379312634, 0.16031858976664504, 0.18784024302026414, 0.12604972824124092, 0.1421063524776144, 0.16563816144555926, 0.14029835178825065], 'mae': [0.11176102228416246, 0.10532522107858801, 0.10378688903402539, 0.11155101802531636, 0.11684891184642711, 0.13737860477801184, 0.09518435769730471, 0.10801282295220206, 0.1190662419516142, 0.10247031891082174], 'adjusted_r2': [0.8167767492860778, 0.8156769646406512, 0.8554589362050583, 0.8382082208592294, 0.8136893495879532, 0.7206185473999123, 0.8279713100365818, 0.8356914353778638, 0.7737517579825077, 0.8398927624372607], 'fom': [0.837434500948863, 0.7392624526429217, 0.6761133545248896, 0.6538095516243886, 0.7292655740339347, 0.7939100279566662, 0.6563060172888332, 0.7410307714425299, 0.3864959690258262, 0.6758792941228868], 'pearson': [0.9106115356155908, 0.9090531902074771, 0.9289835922425497, 0.9199174921524205, 0.90947577142188, 0.8567971273782558, 0.9141696379633368, 0.918233435488222, 0.8882138259013963, 0.9225329968902161]}, 'white_mean_error': {'r2': [0.8222582463359169, 0.8124774340702661, 0.847644081586466, 0.8261810014857875, 0.8072362157760697, 0.7556507602268977, 0.8042934073531622, 0.8162472540693502, 0.7593885857415716, 0.8193637982087238], 'rmse': [0.14805654844998933, 0.15896793072409013, 0.14059696861225282, 0.14936587055999087, 0.1668642516971294, 0.1797549640153606, 0.13757190177898024, 0.15377504075036746, 0.1747879335696527, 0.1524877736484944], 'mae': [0.11364349781260223, 0.11162655377607875, 0.110501419588009, 0.12133802599014257, 0.12337184338544892, 0.13192685497022946, 0.10200003143469709, 0.11692783373085293, 0.11510375587981632, 0.11182760928303076], 'adjusted_r2': [0.8138939285164306, 0.8036528427323962, 0.840474391308182, 0.8180012839086481, 0.7981649788714142, 0.7441519724728693, 0.7950836853462522, 0.8076000660255549, 0.7480656956588221, 0.810863271065605], 'fom': [0.428051927643939, 0.41783289477223184, 0.4100535739245153, 0.47083740066624913, 0.4739423589547857, 0.4978147010011232, 0.37628646276392985, 0.43532042109639607, 0.43584239136490843, 0.4121589332094621], 'pearson': [0.9095655256800004, 0.9016992919681066, 0.9212845111405101, 0.9100487320658714, 0.9024914529217016, 0.8695744752427028, 0.8974740963984845, 0.9043829389757161, 0.8748076744449085, 0.9094637204993731]}, 'white_minmax_error': {'r2': [0.8681061221025357, 0.8225686633855583, 0.8638239865555827, 0.8459203254789948, 0.8346605542286893, 0.7888418533079445, 0.834590099563964, 0.844122494275662, 0.8104968602621659, 0.8523081079969979], 'rmse': [0.12753964653906516, 0.1546314807414786, 0.132921918307663, 0.1406291749943937, 0.15453925781823627, 0.16710110322350025, 0.12647589554382585, 0.1416317612509438, 0.1551177654864456, 0.13788307310286907], 'mae': [0.09628808306621406, 0.10541657573849518, 0.10224783610105036, 0.10954232663284835, 0.1107525077702881, 0.12261935151796527, 0.09588229405350673, 0.10751304393274355, 0.10879752053009285, 0.10105664427135846], 'adjusted_r2': [0.8618993513779492, 0.8142189534272317, 0.857415703569963, 0.8386695172662416, 0.8268798744276865, 0.7789049993459655, 0.826806104249327, 0.8367870822415755, 0.8015790654509738, 0.8453579013145036], 'fom': [0.656787829161546, 0.7470144434462788, 0.7105462537970739, 0.74683853471255, 0.7818068931345755, 0.8681318044311648, 0.6584615081218627, 0.73928544524253, 0.7524857487878374, 0.700090321738535], 'pearson': [0.9324481588696434, 0.9083703126192038, 0.9299409491870139, 0.9199810466812699, 0.9152852314677995, 0.8882998432617255, 0.9135741467368899, 0.9188051582560683, 0.9005540359120865, 0.9253419577135782]}, 'fixed_alpha': {'r2': [0.7704410334404178, 0.7829122451547026, 0.7991746668779633, 0.7120408439152401, 0.7667118268887326, 0.7590524085978416, 0.7172863730674446, 0.7959997964100518, 0.6484335313208283, 0.8555582221510577], 'rmse': [0.1682596653526266, 0.17104107450148218, 0.16141932998160408, 0.1922508191065211, 0.18356798659036333, 0.17849937138913877, 0.165348547493797, 0.16202582159628498, 0.21127935307104553, 0.13635750304285615], 'mae': [0.11914208815247829, 0.11481162556251928, 0.11591839106626815, 0.13952383944931385, 0.13208986316977853, 0.12584742091961065, 0.11245696436195132, 0.11833780717769941, 0.12745602617780633, 0.10078421010538108], 'adjusted_r2': [0.7596382585434963, 0.7726963508090415, 0.7897240629663381, 0.698489824805369, 0.7557335599187907, 0.7477136984142106, 0.7039822023882656, 0.7863997868293484, 0.6318892269123966, 0.8487609620169898], 'fom': [2.374205436001452, 2.379438753475738, 2.583743263393215, 2.750940431702768, 2.9026281819774566, 2.6480151101901446, 2.449384829382028, 2.5542934631380643, 2.5044527999398305, 2.3788342387597474], 'pearson': [0.8807229206165256, 0.8882936659730934, 0.898086246596189, 0.8580930304026584, 0.8808820099334114, 0.8725874845596131, 0.8555653424903509, 0.8939804068773564, 0.8327085692441122, 0.9286550294749347]}}, 'Laplace': {'white_no_error': {'r2': [0.974840289503014, 0.9695142887412129, 0.977267911166271, 0.9376993758531069, 0.9841944806090233, 0.9775537951769451, 0.9683340993372953, 0.9703016877039526, 0.9755510566524551, 0.9643809631350396], 'rmse': [0.05570391380113294, 0.06409599866673261, 0.054308269510030364, 0.08942294150272756, 0.047780970802913894, 0.05448122413589497, 0.05533793330796575, 0.06182082790220864, 0.055716442918231864, 0.0677132584741553], 'mae': [0.039317384066300066, 0.042058450286513706, 0.0336550646331569, 0.052619592558895235, 0.03376497378505458, 0.03912509750748333, 0.038204886771683585, 0.03525860817646082, 0.032093158286793814, 0.040535970463578236], 'adjusted_r2': [0.9736563031266853, 0.9680796670349171, 0.9761981658093897, 0.934767581775606, 0.9834506914612126, 0.976497503185272, 0.9668439393061092, 0.9689041200664916, 0.9744005181419824, 0.9627047731649239], 'fom': [0.7227159519887686, 0.8768412957755547, 0.7714431221353542, 0.9731636896475098, 0.6887468055987485, 0.7096561118968586, 0.7177607265310084, 0.6197695718462908, 0.6315357953583124, 0.865208874798765], 'pearson': [0.9873619879760316, 0.9851669854681713, 0.9891873475144219, 0.9689582871781439, 0.9921525731204548, 0.9890732069799699, 0.9840483437793954, 0.9852179916483217, 0.9879927265210446, 0.9825413684346266]}, 'white_mean_error': {'r2': [0.8390250230853248, 0.8303281170314788, 0.868422636733108, 0.8220249338363079, 0.839432321925539, 0.7649074959340042, 0.8141680555781896, 0.8098196505469445, 0.7784444903821793, 0.8410692180680972], 'rmse': [0.14090035135622134, 0.15121249955331045, 0.13065826347584492, 0.15114101495778715, 0.15229289661304587, 0.17631724338814375, 0.13405629077090467, 0.15644142112211637, 0.16772376869807143, 0.14303312831713622], 'mae': [0.11208630989854981, 0.10862872350279965, 0.10215293249241382, 0.12582099341909186, 0.11215366650769074, 0.13618890366432568, 0.0990835820874246, 0.11917625202680833, 0.11223790753337078, 0.10815133782877129], 'adjusted_r2': [0.831449730054046, 0.8223435578329601, 0.8622307608146661, 0.8136496366050754, 0.8318761958985055, 0.753844319272075, 0.8054230228995162, 0.8008699870432713, 0.7680183487531054, 0.8335901224477724], 'fom': [0.41254121745031225, 0.39758187363728575, 0.3704458811680427, 0.4770006598913942, 0.4205608339054544, 0.5023670627701454, 0.35671716371386164, 0.433763061423572, 0.41687945505330004, 0.3894307138273819], 'pearson': [0.9196578421725015, 0.9125086737220002, 0.9327831615631151, 0.9081321710488897, 0.9215793371551708, 0.8771062717617905, 0.9028457382712449, 0.9005305627979965, 0.8838684752994144, 0.923745430676461]}, 'white_minmax_error': {'r2': [0.972937672228046, 0.9660852994482331, 0.9792046007984938, 0.9412786030559835, 0.9794397196783172, 0.9731075643077651, 0.9638948269147011, 0.963020730733108, 0.9771931819798251, 0.9637435252225589], 'rmse': [0.05777174228780735, 0.06760467759947059, 0.05194334615871145, 0.08681623388599664, 0.05449605934715086, 0.059633522810368246, 0.05908969233948948, 0.06898395573319419, 0.05381281161469669, 0.0683164695606873], 'mae': [0.043873072253127664, 0.047602512829570384, 0.036579663799000905, 0.05784007464736269, 0.04291090937333276, 0.0453676090539375, 0.04227050350158796, 0.04373532315337338, 0.037642402587844064, 0.04361328162376885], 'adjusted_r2': [0.9716641509211305, 0.9644893135399146, 0.9782259937772465, 0.9385152431997945, 0.9784721770749439, 0.9718420379222482, 0.9621957599459812, 0.9612805298264308, 0.9761199199553463, 0.9620373381742088], 'fom': [0.6031875913113778, 0.670079755990574, 0.5234825676374615, 0.7606391730351529, 0.5492057134774917, 0.6162797036714357, 0.5542061618762755, 0.5687733101406882, 0.5133620172303248, 0.5947999740699147], 'pearson': [0.9863870355981198, 0.9834075997804443, 0.9895770639827698, 0.970636287435273, 0.9900183626429302, 0.9868466296027621, 0.9821553862107222, 0.9814050781488944, 0.98875577644972, 0.9819540646558951]}, 'fixed_alpha': {'r2': [0.7922228374673596, 0.8149695174457972, 0.8397441524524134, 0.7729102707843933, 0.8126894873152649, 0.7574364081558679, 0.7937099024486546, 0.8053154876092191, 0.6818984152195859, 0.8858005993474304], 'rmse': [0.16007805391812496, 0.15790809466577155, 0.14419600722831036, 0.17072672088769808, 0.16448703027560208, 0.17909695574344878, 0.14124276269113178, 0.15828313148455073, 0.20097232252282157, 0.1212451959057842], 'mae': [0.11301223330138253, 0.10378613715696577, 0.09711254167104658, 0.12869856349429104, 0.10795898434708844, 0.12439266215693218, 0.09792004655264645, 0.10850169766964742, 0.11819213733943802, 0.08966553771046827], 'adjusted_r2': [0.7824450886422941, 0.8062622006197171, 0.8322027008031152, 0.7622236952918942, 0.8038748749536303, 0.7460216508926145, 0.7840021331521206, 0.7961538634967118, 0.6669289288769782, 0.8804265099049565], 'fom': [1.465376335762526, 1.3690143963500632, 1.3377022920530561, 1.648519338471353, 1.4193901689809076, 1.6713268020867091, 1.3274579622046416, 1.4876231432133498, 1.4504990064742727, 1.3007352659702565], 'pearson': [0.8944212038740711, 0.9044255019999624, 0.918983267148008, 0.8845239159639436, 0.9058378933151242, 0.8718685121162821, 0.8919015005331069, 0.899445844268282, 0.845093854626183, 0.9443105155559894]}}, 'RBF': {'white_no_error': {'r2': [0.9871929059512441, 0.9744708620492487, 0.9910392357496727, 0.9204770563536502, 0.9945879154203467, 0.9857061625027795, 0.9661302778073906, 0.8965437203088833, 0.9804397203203887, 0.9803262682201468], 'rmse': [0.03974277515727151, 0.05865443121003719, 0.03409720793744942, 0.10102967981413084, 0.027959723418306485, 0.04347602367525321, 0.05723119713122622, 0.11538447023823999, 0.049835734693531974, 0.050324098108823136], 'mae': [0.02714646370388232, 0.031957642695165094, 0.023792210503643444, 0.04288934986364722, 0.02225052553852041, 0.032487153522401946, 0.03623204697254829, 0.048009534016388404, 0.02895085662265534, 0.031654517464348435], 'adjusted_r2': [0.9865902191724791, 0.9732694908515663, 0.9906175527261278, 0.9167348001820572, 0.9943332290871866, 0.9850335113264398, 0.9645364085277384, 0.8916751894998896, 0.97951923657076, 0.9794004455481538], 'fom': [0.5339800464902075, 0.607564096248669, 0.4654433234122983, 0.9660175673444082, 0.4540832674704903, 0.5761174644707059, 0.6297837776160244, 0.7462269903438435, 0.6250098748923286, 0.5877516136006095], 'pearson': [0.9935865274309313, 0.9874668428550817, 0.9955204125454847, 0.9604754287971796, 0.997459571820349, 0.99298806613875, 0.9830235718410945, 0.9500950837106452, 0.9904529083036888, 0.9906384452542438]}, 'white_mean_error': {'r2': [0.8361350919662134, 0.8286539451142763, 0.8588637760440782, 0.8277350862787538, 0.8340802116467538, 0.7688796746976423, 0.8229736139159334, 0.8295140770439574, 0.7951050898675582, 0.8275189570650654], 'rmse': [0.14215949421540633, 0.15195668385412306, 0.13532110617074097, 0.14869664448396244, 0.1548102371659804, 0.17482134871911983, 0.1308416507933712, 0.1481198264244709, 0.1612942628662583, 0.14900584753065868], 'mae': [0.10704541676125359, 0.10891346483612904, 0.10544256837090182, 0.12100023196350175, 0.1143041616763405, 0.12811092715656341, 0.09721407207615276, 0.11647908046043819, 0.11182308969765677, 0.10935456568646511], 'adjusted_r2': [0.8284238021763881, 0.8205906013549481, 0.8522220713873289, 0.8196285021036364, 0.8262722216066011, 0.7580034240951784, 0.8146429604531538, 0.8214912100813201, 0.785462976449561, 0.8194022021034214], 'fom': [0.40491766070870633, 0.40956730635705446, 0.3931250575466226, 0.47183653838773415, 0.44045947417585535, 0.48536504211094456, 0.3592560490638428, 0.436029707702284, 0.4261534609061082, 0.40505518295362536], 'pearson': [0.9154397189956827, 0.9104964150333534, 0.9271968773914275, 0.9113112186142427, 0.9165935613190928, 0.8772774240195707, 0.9074700391276831, 0.9110481489639962, 0.8927993310370226, 0.9119922580519626]}, 'white_minmax_error': {'r2': [0.9865718088693995, 0.9705382268156375, 0.9882661967392891, 0.9657030325338252, 0.9926917024153242, 0.9855057680679207, 0.973153022729721, 0.8961988920656425, 0.9785131473398371, 0.9781850332863964], 'rmse': [0.04069505571750526, 0.0630103937417409, 0.03901806190069887, 0.06634842432998708, 0.03249067207726831, 0.043779722013083285, 0.05095358090356199, 0.11557660321174204, 0.05223237071145564, 0.05299195043904183], 'mae': [0.028042903206556242, 0.0362729013321941, 0.028110423020490147, 0.040719429436442876, 0.025129709845301863, 0.03369952055450439, 0.03639426952177583, 0.050326768736098, 0.03265155087712067, 0.0345031255230245], 'adjusted_r2': [0.9859398939926655, 0.969151790430491, 0.9877140177623144, 0.9640890575942405, 0.9923477825289866, 0.9848236865652346, 0.9718896355640608, 0.8913141340452022, 0.9775020013323, 0.9771584466175209], 'fom': [0.46407682792121113, 0.5628555029979938, 0.46313899755576055, 0.627013018618029, 0.38999665809328327, 0.5585175065153314, 0.567564860497118, 0.587503614209097, 0.5335195979335047, 0.5444746131011821], 'pearson': [0.9932805803970745, 0.9858412833991841, 0.9941212269293959, 0.982847087994702, 0.9965145193792879, 0.9928614041132813, 0.9865949907562357, 0.9495670017204209, 0.9894667874507759, 0.9895061317815309]}, 'fixed_alpha': {'r2': [0.87783218194938, 0.8673429737254748, 0.8676698057557806, 0.7268398131068372, 0.7963185284236972, 0.7914304978178572, 0.7720980999818408, 0.8219470369466007, 0.8011804437926684, 0.8755612672000517], 'rmse': [0.12274711657895188, 0.13370507176035978, 0.13103151647292435, 0.1872455276411242, 0.17152457245310423, 0.1660736759537631, 0.1484571045739783, 0.15137129785923115, 0.1588849951596845, 0.1265640656160809], 'mae': [0.08852233452468387, 0.08731819174918327, 0.09586764696136177, 0.13365637543802064, 0.12446276827122411, 0.12037879085504263, 0.10309776938486412, 0.11016970215257746, 0.09201584140292071, 0.09604176176460973], 'adjusted_r2': [0.8720831081587626, 0.8611002901360854, 0.8614425024972291, 0.7139852160765707, 0.7867335179965771, 0.7816154624210505, 0.7613733046868685, 0.8135680739793818, 0.7918242293829116, 0.8697053268329953], 'fom': [1.097002081248939, 1.0166039482606632, 1.8203627154533901, 2.133780377259838, 2.4187444649803505, 2.1969611192445706, 1.6025597005203547, 1.9365901302074722, 1.069569900370483, 1.7654320933764698], 'pearson': [0.9393133521340223, 0.9314711971586003, 0.9319274865743734, 0.8635227101707399, 0.8957212627436537, 0.8896797496830635, 0.8805334444395045, 0.9076735160524406, 0.900043750698584, 0.937182160090137]}}}\n"
     ]
    }
   ],
   "source": [
    "print(cv_results_all_kernels)"
   ]
  },
  {
   "cell_type": "code",
   "execution_count": 10,
   "metadata": {},
   "outputs": [],
   "source": [
    "#### Converting to csv\n",
    "records = []\n",
    "for modeltype, metrics in cv_results.items():\n",
    "    for i in range(len(metrics['r2'])):  # number of folds\n",
    "        record = {'modeltype': modeltype}\n",
    "        for metric_name, values in metrics.items():\n",
    "            record[metric_name] = values[i]\n",
    "        records.append(record)\n",
    "\n",
    "df = pd.DataFrame(records)\n",
    "df.to_csv('cv_results.csv', index=False)"
   ]
  }
 ],
 "metadata": {
  "kernelspec": {
   "display_name": "base",
   "language": "python",
   "name": "python3"
  },
  "language_info": {
   "codemirror_mode": {
    "name": "ipython",
    "version": 3
   },
   "file_extension": ".py",
   "mimetype": "text/x-python",
   "name": "python",
   "nbconvert_exporter": "python",
   "pygments_lexer": "ipython3",
   "version": "3.12.3"
  }
 },
 "nbformat": 4,
 "nbformat_minor": 2
}
