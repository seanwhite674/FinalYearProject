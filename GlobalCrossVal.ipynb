{
 "cells": [
  {
   "cell_type": "code",
   "execution_count": 49,
   "id": "0c40b0f9-7fb5-4ee5-a297-8ee37fcc0012",
   "metadata": {},
   "outputs": [],
   "source": [
    "from __future__ import division\n",
    "import numpy as np\n",
    "import matplotlib.pyplot as plt\n",
    "import pandas as pd\n",
    "import seaborn as sns\n",
    "import numpy.linalg as npl\n",
    "from scipy.optimize import minimize\n",
    "import math as math\n",
    "from itertools import combinations\n",
    "from sklearn.gaussian_process import GaussianProcessRegressor\n",
    "from sklearn.gaussian_process.kernels import RBF, ConstantKernel as C\n",
    "from sklearn.gaussian_process.kernels import WhiteKernel\n",
    "import matplotlib.lines as mlines\n",
    "from sklearn.model_selection import train_test_split\n",
    "import csv\n",
    "from matplotlib.colors import LinearSegmentedColormap\n",
    "from matplotlib.colors import LinearSegmentedColormap\n",
    "from scipy.interpolate import griddata\n",
    "from scipy.spatial import distance_matrix\n",
    "from scipy import interpolate\n",
    "from sklearn.model_selection import KFold\n",
    "from tqdm import tqdm\n",
    "from sklearn.metrics import r2_score\n",
    "from sklearn.metrics import mean_squared_error"
   ]
  },
  {
   "cell_type": "code",
   "execution_count": 3,
   "id": "9d547d62-d1c7-482a-9e8f-29bcd26c7e97",
   "metadata": {},
   "outputs": [
    {
     "data": {
      "text/html": [
       "<div>\n",
       "<style scoped>\n",
       "    .dataframe tbody tr th:only-of-type {\n",
       "        vertical-align: middle;\n",
       "    }\n",
       "\n",
       "    .dataframe tbody tr th {\n",
       "        vertical-align: top;\n",
       "    }\n",
       "\n",
       "    .dataframe thead th {\n",
       "        text-align: right;\n",
       "    }\n",
       "</style>\n",
       "<table border=\"1\" class=\"dataframe\">\n",
       "  <thead>\n",
       "    <tr style=\"text-align: right;\">\n",
       "      <th></th>\n",
       "      <th>x</th>\n",
       "      <th>y</th>\n",
       "      <th>z</th>\n",
       "      <th>w</th>\n",
       "      <th>data</th>\n",
       "      <th>error</th>\n",
       "    </tr>\n",
       "  </thead>\n",
       "  <tbody>\n",
       "    <tr>\n",
       "      <th>0</th>\n",
       "      <td>0.1</td>\n",
       "      <td>-1.439897</td>\n",
       "      <td>0.0</td>\n",
       "      <td>0.25</td>\n",
       "      <td>-2.831628</td>\n",
       "      <td>0.561478</td>\n",
       "    </tr>\n",
       "    <tr>\n",
       "      <th>1</th>\n",
       "      <td>0.1</td>\n",
       "      <td>-1.308997</td>\n",
       "      <td>0.5</td>\n",
       "      <td>0.25</td>\n",
       "      <td>-3.006489</td>\n",
       "      <td>0.485720</td>\n",
       "    </tr>\n",
       "    <tr>\n",
       "      <th>2</th>\n",
       "      <td>0.1</td>\n",
       "      <td>-1.178097</td>\n",
       "      <td>1.0</td>\n",
       "      <td>0.25</td>\n",
       "      <td>-2.354835</td>\n",
       "      <td>1.270193</td>\n",
       "    </tr>\n",
       "    <tr>\n",
       "      <th>3</th>\n",
       "      <td>0.1</td>\n",
       "      <td>-1.047198</td>\n",
       "      <td>1.0</td>\n",
       "      <td>0.25</td>\n",
       "      <td>-2.974002</td>\n",
       "      <td>0.983807</td>\n",
       "    </tr>\n",
       "    <tr>\n",
       "      <th>4</th>\n",
       "      <td>0.1</td>\n",
       "      <td>-0.916298</td>\n",
       "      <td>1.0</td>\n",
       "      <td>0.25</td>\n",
       "      <td>-2.401510</td>\n",
       "      <td>1.254378</td>\n",
       "    </tr>\n",
       "    <tr>\n",
       "      <th>...</th>\n",
       "      <td>...</td>\n",
       "      <td>...</td>\n",
       "      <td>...</td>\n",
       "      <td>...</td>\n",
       "      <td>...</td>\n",
       "      <td>...</td>\n",
       "    </tr>\n",
       "    <tr>\n",
       "      <th>995</th>\n",
       "      <td>0.7</td>\n",
       "      <td>1.570796</td>\n",
       "      <td>-1.0</td>\n",
       "      <td>1.00</td>\n",
       "      <td>-2.287634</td>\n",
       "      <td>2.337560</td>\n",
       "    </tr>\n",
       "    <tr>\n",
       "      <th>996</th>\n",
       "      <td>0.8</td>\n",
       "      <td>1.570796</td>\n",
       "      <td>-1.0</td>\n",
       "      <td>1.00</td>\n",
       "      <td>-2.164392</td>\n",
       "      <td>1.612457</td>\n",
       "    </tr>\n",
       "    <tr>\n",
       "      <th>997</th>\n",
       "      <td>0.9</td>\n",
       "      <td>1.570796</td>\n",
       "      <td>-1.0</td>\n",
       "      <td>1.00</td>\n",
       "      <td>-2.152368</td>\n",
       "      <td>1.550488</td>\n",
       "    </tr>\n",
       "    <tr>\n",
       "      <th>998</th>\n",
       "      <td>1.0</td>\n",
       "      <td>-1.439897</td>\n",
       "      <td>-1.0</td>\n",
       "      <td>1.00</td>\n",
       "      <td>-2.579505</td>\n",
       "      <td>0.442328</td>\n",
       "    </tr>\n",
       "    <tr>\n",
       "      <th>999</th>\n",
       "      <td>1.0</td>\n",
       "      <td>1.439897</td>\n",
       "      <td>-1.0</td>\n",
       "      <td>1.00</td>\n",
       "      <td>-2.114922</td>\n",
       "      <td>0.416658</td>\n",
       "    </tr>\n",
       "  </tbody>\n",
       "</table>\n",
       "<p>1000 rows × 6 columns</p>\n",
       "</div>"
      ],
      "text/plain": [
       "       x         y    z     w      data     error\n",
       "0    0.1 -1.439897  0.0  0.25 -2.831628  0.561478\n",
       "1    0.1 -1.308997  0.5  0.25 -3.006489  0.485720\n",
       "2    0.1 -1.178097  1.0  0.25 -2.354835  1.270193\n",
       "3    0.1 -1.047198  1.0  0.25 -2.974002  0.983807\n",
       "4    0.1 -0.916298  1.0  0.25 -2.401510  1.254378\n",
       "..   ...       ...  ...   ...       ...       ...\n",
       "995  0.7  1.570796 -1.0  1.00 -2.287634  2.337560\n",
       "996  0.8  1.570796 -1.0  1.00 -2.164392  1.612457\n",
       "997  0.9  1.570796 -1.0  1.00 -2.152368  1.550488\n",
       "998  1.0 -1.439897 -1.0  1.00 -2.579505  0.442328\n",
       "999  1.0  1.439897 -1.0  1.00 -2.114922  0.416658\n",
       "\n",
       "[1000 rows x 6 columns]"
      ]
     },
     "execution_count": 3,
     "metadata": {},
     "output_type": "execute_result"
    }
   ],
   "source": [
    "columns = [\"x\",\"y\",\"z\",\"w\",\"data\",\"error\"]\n",
    "datatab = pd.read_table(\"Updateddata.txt\",names = columns)\n",
    "datatab"
   ]
  },
  {
   "cell_type": "code",
   "execution_count": 5,
   "id": "fa492295-1820-4297-85e3-bdf23f13c7cd",
   "metadata": {},
   "outputs": [],
   "source": [
    "x = datatab['x']\n",
    "y = datatab['y']\n",
    "z = datatab['z']\n",
    "w = datatab['w']\n",
    "data = datatab['data']\n",
    "error = datatab['error']"
   ]
  },
  {
   "cell_type": "code",
   "execution_count": 7,
   "id": "d09e3808-a000-453c-8641-5cf3cebef454",
   "metadata": {},
   "outputs": [],
   "source": [
    "# First dataset \n",
    "datam1 = datatab[0:250]\n",
    "xm1 = datam1['x'].values\n",
    "ym1 = datam1['y'].values\n",
    "zm1 = datam1['z'].values\n",
    "wm1 = datam1['w'].values\n",
    "dm1 = datam1['data'].values\n",
    "em1 = datam1['error'].values\n",
    "X1 = np.column_stack((xm1, ym1, zm1, wm1))\n",
    "\n",
    "# Second dataset\n",
    "datam2 = datatab[250:500]\n",
    "xm2 = datam2['x'].values\n",
    "ym2 = datam2['y'].values\n",
    "zm2 = datam2['z'].values\n",
    "wm2 = datam2['w'].values\n",
    "dm2 = datam2['data'].values\n",
    "em2 = datam2['error'].values\n",
    "X2 = np.column_stack((xm2, ym2, zm2, wm2))\n",
    "\n",
    "# Third dataset\n",
    "datam3 = datatab[500:750]\n",
    "xm3 = datam3['x'].values\n",
    "ym3 = datam3['y'].values\n",
    "zm3 = datam3['z'].values\n",
    "wm3 = datam3['w'].values\n",
    "dm3 = datam3['data'].values\n",
    "em3 = datam3['error'].values\n",
    "X3 = np.column_stack((xm3, ym3, zm3, wm3))\n",
    "\n",
    "# Fourth dataset\n",
    "datam4 = datatab[750:]\n",
    "xm4 = datam4['x'].values\n",
    "ym4 = datam4['y'].values\n",
    "zm4 = datam4['z'].values\n",
    "wm4 = datam4['w'].values\n",
    "dm4 = datam4['data'].values\n",
    "em4 = datam4['error'].values\n",
    "X4 = np.column_stack((xm4, ym4, zm4, wm4))"
   ]
  },
  {
   "cell_type": "code",
   "execution_count": 9,
   "id": "91000458-a5bf-4559-8e97-3a153715839a",
   "metadata": {},
   "outputs": [
    {
     "name": "stdout",
     "output_type": "stream",
     "text": [
      "(1000,)\n",
      "(1000,)\n",
      "(1000, 4)\n"
     ]
    }
   ],
   "source": [
    "X = np.column_stack((x,y, z, w))\n",
    "D = np.concatenate((dm1,dm2,dm3,dm4))\n",
    "E = np.concatenate((em1,em2,em3,em4))\n",
    "print(D.shape)\n",
    "print(E.shape)\n",
    "print(X.shape)"
   ]
  },
  {
   "cell_type": "code",
   "execution_count": 61,
   "id": "9697d057-d2c6-46d1-ac50-1b9e068d842c",
   "metadata": {},
   "outputs": [
    {
     "name": "stderr",
     "output_type": "stream",
     "text": [
      "Training Progress:  10%|█         | 1/10 [00:21<03:09, 21.07s/it]"
     ]
    },
    {
     "name": "stdout",
     "output_type": "stream",
     "text": [
      "Split 1: Fitted Kernel: 0.771**2 * RBF(length_scale=[0.272, 0.713, 0.707, 1.82])\n"
     ]
    },
    {
     "name": "stderr",
     "output_type": "stream",
     "text": [
      "Training Progress:  20%|██        | 2/10 [00:48<03:16, 24.57s/it]"
     ]
    },
    {
     "name": "stdout",
     "output_type": "stream",
     "text": [
      "Split 2: Fitted Kernel: 0.841**2 * RBF(length_scale=[0.305, 0.189, 0.84, 2.24])\n"
     ]
    },
    {
     "name": "stderr",
     "output_type": "stream",
     "text": [
      "Training Progress:  30%|███       | 3/10 [01:22<03:23, 29.05s/it]"
     ]
    },
    {
     "name": "stdout",
     "output_type": "stream",
     "text": [
      "Split 3: Fitted Kernel: 0.764**2 * RBF(length_scale=[0.228, 0.678, 0.734, 1.88])\n"
     ]
    },
    {
     "name": "stderr",
     "output_type": "stream",
     "text": [
      "Training Progress:  40%|████      | 4/10 [01:48<02:47, 27.96s/it]"
     ]
    },
    {
     "name": "stdout",
     "output_type": "stream",
     "text": [
      "Split 4: Fitted Kernel: 0.856**2 * RBF(length_scale=[0.299, 0.189, 0.841, 2.41])\n"
     ]
    },
    {
     "name": "stderr",
     "output_type": "stream",
     "text": [
      "Training Progress:  50%|█████     | 5/10 [02:14<02:15, 27.06s/it]"
     ]
    },
    {
     "name": "stdout",
     "output_type": "stream",
     "text": [
      "Split 5: Fitted Kernel: 0.771**2 * RBF(length_scale=[0.262, 0.749, 0.757, 2.01])\n"
     ]
    },
    {
     "name": "stderr",
     "output_type": "stream",
     "text": [
      "Training Progress:  60%|██████    | 6/10 [02:55<02:07, 31.94s/it]"
     ]
    },
    {
     "name": "stdout",
     "output_type": "stream",
     "text": [
      "Split 6: Fitted Kernel: 0.771**2 * RBF(length_scale=[0.228, 0.661, 0.75, 1.82])\n"
     ]
    },
    {
     "name": "stderr",
     "output_type": "stream",
     "text": [
      "Training Progress:  70%|███████   | 7/10 [03:24<01:32, 30.91s/it]"
     ]
    },
    {
     "name": "stdout",
     "output_type": "stream",
     "text": [
      "Split 7: Fitted Kernel: 0.853**2 * RBF(length_scale=[0.323, 0.187, 0.814, 2.31])\n"
     ]
    },
    {
     "name": "stderr",
     "output_type": "stream",
     "text": [
      "Training Progress:  80%|████████  | 8/10 [03:53<01:00, 30.33s/it]"
     ]
    },
    {
     "name": "stdout",
     "output_type": "stream",
     "text": [
      "Split 8: Fitted Kernel: 0.861**2 * RBF(length_scale=[0.304, 0.186, 0.797, 2.37])\n"
     ]
    },
    {
     "name": "stderr",
     "output_type": "stream",
     "text": [
      "Training Progress:  90%|█████████ | 9/10 [04:15<00:27, 27.86s/it]"
     ]
    },
    {
     "name": "stdout",
     "output_type": "stream",
     "text": [
      "Split 9: Fitted Kernel: 0.769**2 * RBF(length_scale=[0.248, 0.701, 0.83, 1.89])\n"
     ]
    },
    {
     "name": "stderr",
     "output_type": "stream",
     "text": [
      "Training Progress: 100%|██████████| 10/10 [04:40<00:00, 28.00s/it]"
     ]
    },
    {
     "name": "stdout",
     "output_type": "stream",
     "text": [
      "Split 10: Fitted Kernel: 0.853**2 * RBF(length_scale=[0.292, 0.178, 0.828, 2.36])\n"
     ]
    },
    {
     "name": "stderr",
     "output_type": "stream",
     "text": [
      "\n"
     ]
    }
   ],
   "source": [
    "n_splits = 10  \n",
    "\n",
    "gpr_list = []\n",
    "\n",
    "# Lists to store multiple iterations of splits\n",
    "Xtrain, Xtest = [], []\n",
    "Dtrain, Dtest = [], []\n",
    "Etrain, Etest = [], []\n",
    "trainindex, testindex = [], []\n",
    "\n",
    "for split in tqdm(range(n_splits), desc=\"Training Progress\"):\n",
    "    # Perform train-test split for each dataset\n",
    "    X_train, X_test, D_train, D_test, E_train, E_test, train_index, test_index = train_test_split(\n",
    "        X, D, E, range(len(X)), test_size=0.2, random_state=42 + split, shuffle=True)\n",
    "\n",
    "    # Define the Gaussian Process kernel\n",
    "    bounds_l = ((.08, 10), (1e-2, 10.0), (1e-2, 10.0), (1e-2, 10.0))  \n",
    "    guess_l = (1,1,1,1)\n",
    "    guess_signal_var = 1.0\n",
    "    bounds_signal_var = (1e-20, 1e20)\n",
    "\n",
    "    kernel = C(constant_value=guess_signal_var, constant_value_bounds=bounds_signal_var) * \\\n",
    "             RBF(length_scale=guess_l, length_scale_bounds=bounds_l)\n",
    "    \n",
    "    # Train Gaussian Process Regressor\n",
    "    gpr = GaussianProcessRegressor(kernel=kernel, alpha=E_train**2, normalize_y=True, n_restarts_optimizer=20)\n",
    "    gpr.fit(X_train, D_train)\n",
    "    gpr_list.append(gpr)\n",
    "    Xtrain.append(X_train)\n",
    "    Xtest.append(X_test)\n",
    "    Dtrain.append(D_train)\n",
    "    Dtest.append(D_test)\n",
    "    Etrain.append(E_train)\n",
    "    Etest.append(E_test)\n",
    "    trainindex.append(train_index)\n",
    "    testindex.append(test_index)\n",
    "\n",
    "    # Append current split's train-test matrices for all datasets\n",
    "    \n",
    "    print(f\"Split {split+1}: Fitted Kernel: {gpr.kernel_}\")"
   ]
  },
  {
   "cell_type": "code",
   "execution_count": 62,
   "id": "fdcb8ee0-f749-4af8-9589-415aa63a7ca1",
   "metadata": {},
   "outputs": [],
   "source": [
    "gpr1 = gpr_list[0]\n",
    "gpr2 = gpr_list[1]\n",
    "Dfit1, Dstd1 = gpr1.predict(X1, return_std=True)\n",
    "Dfit2, Dstd2 = gpr1.predict(X2, return_std=True)\n",
    "Dfit3, Dstd3 = gpr1.predict(X3, return_std=True)\n",
    "Dfit4, Dstd4 = gpr1.predict(X4, return_std=True)"
   ]
  },
  {
   "cell_type": "code",
   "execution_count": 63,
   "id": "3f0aa161-737e-40e7-9a8e-4ec3089420d6",
   "metadata": {},
   "outputs": [
    {
     "name": "stdout",
     "output_type": "stream",
     "text": [
      "Split 0,Relative Error Results: Mean=0.04272,Standard Deviation=0.04486,Maximum Value=0.28432\n",
      "Split 0, MSE: 0.02483\n",
      "Split 0, R² Score: 0.82005\n",
      "Split 0, Log Marginal Likelihood: -528.34163, more\n",
      "Split 1,Relative Error Results: Mean=0.03752,Standard Deviation=0.04921,Maximum Value=0.31771\n",
      "Split 1, MSE: 0.02212\n",
      "Split 1, R² Score: 0.80749\n",
      "Split 1, Log Marginal Likelihood: -511.73292, more\n",
      "Split 2,Relative Error Results: Mean=0.04728,Standard Deviation=0.04492,Maximum Value=0.25640\n",
      "Split 2, MSE: 0.02642\n",
      "Split 2, R² Score: 0.76124\n",
      "Split 2, Log Marginal Likelihood: -498.67219, more\n",
      "Split 3,Relative Error Results: Mean=0.03656,Standard Deviation=0.03723,Maximum Value=0.26097\n",
      "Split 3, MSE: 0.01798\n",
      "Split 3, R² Score: 0.85761\n",
      "Split 3, Log Marginal Likelihood: -511.63641, more\n",
      "Split 4,Relative Error Results: Mean=0.04399,Standard Deviation=0.04253,Maximum Value=0.27130\n",
      "Split 4, MSE: 0.02303\n",
      "Split 4, R² Score: 0.80290\n",
      "Split 4, Log Marginal Likelihood: -518.14617, more\n",
      "Split 5,Relative Error Results: Mean=0.03901,Standard Deviation=0.04232,Maximum Value=0.27863\n",
      "Split 5, MSE: 0.02056\n",
      "Split 5, R² Score: 0.84554\n",
      "Split 5, Log Marginal Likelihood: -538.00359, more\n",
      "Split 6,Relative Error Results: Mean=0.03981,Standard Deviation=0.04820,Maximum Value=0.33050\n",
      "Split 6, MSE: 0.02310\n",
      "Split 6, R² Score: 0.83067\n",
      "Split 6, Log Marginal Likelihood: -528.18261, more\n",
      "Split 7,Relative Error Results: Mean=0.03370,Standard Deviation=0.02916,Maximum Value=0.19115\n",
      "Split 7, MSE: 0.01259\n",
      "Split 7, R² Score: 0.90698\n",
      "Split 7, Log Marginal Likelihood: -529.07869, more\n",
      "Split 8,Relative Error Results: Mean=0.04935,Standard Deviation=0.05604,Maximum Value=0.28254\n",
      "Split 8, MSE: 0.03245\n",
      "Split 8, R² Score: 0.75189\n",
      "Split 8, Log Marginal Likelihood: -512.46962, more\n",
      "Split 9,Relative Error Results: Mean=0.03145,Standard Deviation=0.02513,Maximum Value=0.11741\n",
      "Split 9, MSE: 0.01079\n",
      "Split 9, R² Score: 0.92984\n",
      "Split 9, Log Marginal Likelihood: -545.93571, more\n"
     ]
    }
   ],
   "source": [
    "## Global relative difference\n",
    "for i in range(n_splits):\n",
    "    Xtestit = Xtest[i]\n",
    "    x_coords = Xtestit[:,0]\n",
    "    y_coords = Xtestit[:,1]\n",
    "    Dtrue=Dtest[i]\n",
    "    gpr = gpr_list[i]\n",
    "    Dpred = gpr.predict(Xtestit)\n",
    "    relative_difference = np.abs(Dtrue - Dpred) / np.abs(Dtrue)\n",
    "    data = relative_difference\n",
    "    mean_value = np.mean(data)\n",
    "    std_value = np.std(data)\n",
    "    max_value = np.max(data) \n",
    "    print(f\"Split {i},Relative Error Results: Mean={mean_value:.5f},Standard Deviation={std_value:.5f},Maximum Value={max_value:.5f}\")\n",
    "    mse = mean_squared_error(Dtrue, Dpred)\n",
    "    print(f\"Split {i}, MSE: {mse:.5f}\")\n",
    "    r2 = r2_score(Dtrue, Dpred)\n",
    "    print(f\"Split {i}, R² Score: {r2:.5f}\")\n",
    "    lml = gpr.log_marginal_likelihood()\n",
    "    print(f\"Split {i}, Log Marginal Likelihood: {lml:.5f}, more\")"
   ]
  },
  {
   "cell_type": "code",
   "execution_count": 75,
   "id": "d8d240ff-e537-4377-bba4-f5bdbacd884b",
   "metadata": {},
   "outputs": [
    {
     "name": "stdout",
     "output_type": "stream",
     "text": [
      "[833, 551, 782, 535, 144, 712, 585, 513, 542, 140, 220, 869, 925, 297, 312, 189, 221, 575, 630, 364, 530, 395, 492, 718, 208, 729, 164, 327, 678, 838, 457, 596, 577, 561, 942, 548, 921, 896, 336, 891, 33, 715, 151, 215, 197, 433, 705, 302, 114, 952, 858, 231, 388, 846, 647, 963, 118, 659, 39, 488, 674, 574, 832, 473, 267, 940, 422, 639, 696, 792, 23, 115, 61, 405, 200, 580, 602, 532, 128, 694, 129, 724, 58, 300, 700, 476, 16, 284, 30, 725, 966, 238, 977, 973, 666, 541, 781, 784, 342, 867, 713, 277, 372, 836, 333, 889, 122, 137, 354, 815, 65, 965, 991, 874, 746, 624, 638, 169, 213, 997, 292, 610, 482, 672, 668, 608, 893, 882, 403, 673, 111, 367, 951, 306, 967, 255, 955, 758, 607, 757, 841, 10, 909, 650, 515, 756, 434, 625, 546, 375, 751, 242, 819, 243, 279, 382, 411, 226, 249, 204, 66, 526, 816, 211, 250, 133, 85, 589, 772, 396, 926, 165, 835, 999, 851, 222, 606, 462, 74, 980, 850, 223, 761, 274, 311, 557, 885, 67, 5, 887, 14, 744, 427, 240, 716, 975, 971, 366, 479, 870]\n"
     ]
    }
   ],
   "source": [
    "print(testindex[9])"
   ]
  },
  {
   "cell_type": "code",
   "execution_count": 91,
   "id": "6968b7fe-1633-4cd0-9397-ac041d6ae405",
   "metadata": {},
   "outputs": [
    {
     "name": "stdout",
     "output_type": "stream",
     "text": [
      "Bin 0 - 249: 49\n",
      "Bin 250 - 499: 43\n",
      "Bin 500 - 749: 53\n",
      "Bin 750 - 999: 55\n"
     ]
    }
   ],
   "source": [
    "data = np.array(testindex[9]) \n",
    "\n",
    "bins = [0, 250, 500, 750, np.max(data) + 1]  \n",
    "binned_data = np.digitize(data, bins)  \n",
    "binned_dict = {f\"{bins[i]} - {bins[i+1]-1}\": data[(binned_data == i+1)] for i in range(len(bins)-1)}\n",
    "\n",
    "for bin_range, values in binned_dict.items():\n",
    "    print(f\"Bin {bin_range}: {len(values)}\")  "
   ]
  },
  {
   "cell_type": "code",
   "execution_count": null,
   "id": "fe92f694-ec8f-4253-ae4e-a48ce293132d",
   "metadata": {},
   "outputs": [],
   "source": []
  }
 ],
 "metadata": {
  "kernelspec": {
   "display_name": "base",
   "language": "python",
   "name": "python3"
  },
  "language_info": {
   "codemirror_mode": {
    "name": "ipython",
    "version": 3
   },
   "file_extension": ".py",
   "mimetype": "text/x-python",
   "name": "python",
   "nbconvert_exporter": "python",
   "pygments_lexer": "ipython3",
   "version": "3.12.3"
  }
 },
 "nbformat": 4,
 "nbformat_minor": 5
}
